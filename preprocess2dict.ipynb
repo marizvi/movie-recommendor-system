{
 "cells": [
  {
   "cell_type": "markdown",
   "id": "c8ef36af",
   "metadata": {},
   "source": [
    "### Table to Dictionary\n",
    "* In code, I want to ask questions like:\n",
    "    * Given user i, which movies j did they rate?\n",
    "    * Given movie j, which users i have rated it?\n",
    "    * Given user i and movie j, what is the rating?\n",
    "* Theoratically, Pandas Dataframe is like an SQL table, so we should be able to write \"queries\" to grab this info?\n",
    "* Python dictionaries are already a key>value lookup\n",
    "    * user2movie: user ID -> movie ID\n",
    "    * movie2user: movieID -> user ID\n",
    "    * usermovie2rating: (user ID, movie ID) -> rating\n",
    "* Why dictionaries?    \n",
    "    * Looping through the array would be O(MN)    \n",
    "    * Looping through dictionary is O(|omega|), omega: set pf our ratings"
   ]
  },
  {
   "cell_type": "code",
   "execution_count": 1,
   "id": "a3a1aeb1",
   "metadata": {},
   "outputs": [],
   "source": [
    "import numpy as np\n",
    "import pandas as pd\n",
    "import matplotlib.pyplot as plt\n",
    "from sklearn.utils import shuffle"
   ]
  },
  {
   "cell_type": "code",
   "execution_count": 2,
   "id": "6e08fd8e",
   "metadata": {},
   "outputs": [],
   "source": [
    "df = pd.read_csv('./Data/very_small_rating.csv')"
   ]
  },
  {
   "cell_type": "code",
   "execution_count": 3,
   "id": "dc6ba907",
   "metadata": {},
   "outputs": [
    {
     "data": {
      "text/html": [
       "<div>\n",
       "<style scoped>\n",
       "    .dataframe tbody tr th:only-of-type {\n",
       "        vertical-align: middle;\n",
       "    }\n",
       "\n",
       "    .dataframe tbody tr th {\n",
       "        vertical-align: top;\n",
       "    }\n",
       "\n",
       "    .dataframe thead th {\n",
       "        text-align: right;\n",
       "    }\n",
       "</style>\n",
       "<table border=\"1\" class=\"dataframe\">\n",
       "  <thead>\n",
       "    <tr style=\"text-align: right;\">\n",
       "      <th></th>\n",
       "      <th>Unnamed: 0</th>\n",
       "      <th>Unnamed: 0.1</th>\n",
       "      <th>userId</th>\n",
       "      <th>movieId</th>\n",
       "      <th>rating</th>\n",
       "      <th>movie_idx</th>\n",
       "    </tr>\n",
       "  </thead>\n",
       "  <tbody>\n",
       "    <tr>\n",
       "      <th>0</th>\n",
       "      <td>19846</td>\n",
       "      <td>19846</td>\n",
       "      <td>190</td>\n",
       "      <td>1</td>\n",
       "      <td>5.0</td>\n",
       "      <td>10</td>\n",
       "    </tr>\n",
       "    <tr>\n",
       "      <th>1</th>\n",
       "      <td>19847</td>\n",
       "      <td>19847</td>\n",
       "      <td>190</td>\n",
       "      <td>2</td>\n",
       "      <td>5.0</td>\n",
       "      <td>125</td>\n",
       "    </tr>\n",
       "    <tr>\n",
       "      <th>2</th>\n",
       "      <td>19851</td>\n",
       "      <td>19851</td>\n",
       "      <td>190</td>\n",
       "      <td>6</td>\n",
       "      <td>4.0</td>\n",
       "      <td>104</td>\n",
       "    </tr>\n",
       "    <tr>\n",
       "      <th>3</th>\n",
       "      <td>19854</td>\n",
       "      <td>19854</td>\n",
       "      <td>190</td>\n",
       "      <td>10</td>\n",
       "      <td>4.0</td>\n",
       "      <td>68</td>\n",
       "    </tr>\n",
       "    <tr>\n",
       "      <th>4</th>\n",
       "      <td>19855</td>\n",
       "      <td>19855</td>\n",
       "      <td>190</td>\n",
       "      <td>11</td>\n",
       "      <td>5.0</td>\n",
       "      <td>186</td>\n",
       "    </tr>\n",
       "  </tbody>\n",
       "</table>\n",
       "</div>"
      ],
      "text/plain": [
       "   Unnamed: 0  Unnamed: 0.1  userId  movieId  rating  movie_idx\n",
       "0       19846         19846     190        1     5.0         10\n",
       "1       19847         19847     190        2     5.0        125\n",
       "2       19851         19851     190        6     4.0        104\n",
       "3       19854         19854     190       10     4.0         68\n",
       "4       19855         19855     190       11     5.0        186"
      ]
     },
     "execution_count": 3,
     "metadata": {},
     "output_type": "execute_result"
    }
   ],
   "source": [
    "df.head()"
   ]
  },
  {
   "cell_type": "code",
   "execution_count": 4,
   "id": "06e01845",
   "metadata": {},
   "outputs": [],
   "source": [
    "N = df.userId.max()+1\n",
    "M = df.movie_idx.max()+1"
   ]
  },
  {
   "cell_type": "code",
   "execution_count": 5,
   "id": "8248705d",
   "metadata": {},
   "outputs": [],
   "source": [
    "from sklearn.model_selection import train_test_split"
   ]
  },
  {
   "cell_type": "code",
   "execution_count": null,
   "id": "b2fdc4de",
   "metadata": {},
   "outputs": [],
   "source": []
  },
  {
   "cell_type": "code",
   "execution_count": 6,
   "id": "b080a55e",
   "metadata": {},
   "outputs": [],
   "source": [
    "# train test split\n",
    "df = shuffle(df)\n",
    "cutoff = int(0.8*len(df))\n",
    "df_train = df.iloc[:cutoff]\n",
    "df_test = df.iloc[cutoff:]"
   ]
  },
  {
   "cell_type": "code",
   "execution_count": 7,
   "id": "d5c9cdd7",
   "metadata": {},
   "outputs": [],
   "source": [
    "user2movie=dict()\n",
    "movie2user=dict()\n",
    "usermovie2rating=dict()"
   ]
  },
  {
   "cell_type": "code",
   "execution_count": 8,
   "id": "1dc6394a",
   "metadata": {},
   "outputs": [],
   "source": [
    "count=0\n",
    "def update_user2movie_and_movie2user(row):\n",
    "    global count # using global count here\n",
    "    count+=1\n",
    "    if count%100000 == 0:\n",
    "        print(\"preprocessed: %.3f\" % (float(count)/cutoff))\n",
    "    i = int(row.userId)\n",
    "    j = int(row.movie_idx)\n",
    "    if i not in user2movie:\n",
    "        user2movie[i]=[j]\n",
    "    else:\n",
    "        user2movie[i].append(j)\n",
    "    if j not in movie2user:\n",
    "        movie2user[j]=[i]\n",
    "    else:\n",
    "        movie2user[j].append(i)\n",
    "    \n",
    "    usermovie2rating[(i,j)] = row.rating"
   ]
  },
  {
   "cell_type": "code",
   "execution_count": 9,
   "id": "af908dd1",
   "metadata": {},
   "outputs": [
    {
     "name": "stdout",
     "output_type": "stream",
     "text": [
      "preprocessed: 0.748\n"
     ]
    },
    {
     "data": {
      "text/plain": [
       "48683     None\n",
       "166238    None\n",
       "14850     None\n",
       "121967    None\n",
       "85546     None\n",
       "          ... \n",
       "101473    None\n",
       "33281     None\n",
       "50428     None\n",
       "69305     None\n",
       "76651     None\n",
       "Length: 133628, dtype: object"
      ]
     },
     "execution_count": 9,
     "metadata": {},
     "output_type": "execute_result"
    }
   ],
   "source": [
    "df_train.apply(update_user2movie_and_movie2user,axis=1)"
   ]
  },
  {
   "cell_type": "code",
   "execution_count": 10,
   "id": "e49720a8",
   "metadata": {},
   "outputs": [],
   "source": [
    "# test ratings dictionary\n",
    "usermovie2rating_test = dict()\n"
   ]
  },
  {
   "cell_type": "code",
   "execution_count": 11,
   "id": "04b48163",
   "metadata": {},
   "outputs": [],
   "source": [
    "count=0\n",
    "def update_usermovie2rating_test(row):\n",
    "    global count\n",
    "    count+=1\n",
    "    if count % 100000 == 0:\n",
    "        print(\"preprocessed: %.3f\" % (float(count)/len(df_test)))\n",
    "    i = int(row.userId)\n",
    "    j = int(row.movie_idx)\n",
    "    usermovie2rating_test[(i,j)] = row.rating"
   ]
  },
  {
   "cell_type": "code",
   "execution_count": 12,
   "id": "7d521515",
   "metadata": {},
   "outputs": [
    {
     "data": {
      "text/plain": [
       "76183     None\n",
       "104245    None\n",
       "157931    None\n",
       "98088     None\n",
       "96592     None\n",
       "          ... \n",
       "117772    None\n",
       "107594    None\n",
       "88631     None\n",
       "33300     None\n",
       "21228     None\n",
       "Length: 33407, dtype: object"
      ]
     },
     "execution_count": 12,
     "metadata": {},
     "output_type": "execute_result"
    }
   ],
   "source": [
    "df_test.apply(update_usermovie2rating_test,axis=1)"
   ]
  },
  {
   "cell_type": "code",
   "execution_count": 13,
   "id": "e40152ee",
   "metadata": {},
   "outputs": [],
   "source": [
    "import pickle\n",
    "with open('user2movie.json','wb') as f:\n",
    "    pickle.dump(user2movie,f)\n",
    "with open('movie2user.json','wb') as f:\n",
    "    pickle.dump(movie2user,f)    \n",
    "with open('usermovie2rating.json','wb') as f:\n",
    "    pickle.dump(usermovie2rating,f)\n",
    "with open('usermovie2rating_test.json','wb') as f:\n",
    "    pickle.dump(usermovie2rating_test,f)"
   ]
  },
  {
   "cell_type": "code",
   "execution_count": null,
   "id": "bff1522f",
   "metadata": {},
   "outputs": [],
   "source": []
  }
 ],
 "metadata": {
  "kernelspec": {
   "display_name": "Python 3 (ipykernel)",
   "language": "python",
   "name": "python3"
  },
  "language_info": {
   "codemirror_mode": {
    "name": "ipython",
    "version": 3
   },
   "file_extension": ".py",
   "mimetype": "text/x-python",
   "name": "python",
   "nbconvert_exporter": "python",
   "pygments_lexer": "ipython3",
   "version": "3.9.7"
  }
 },
 "nbformat": 4,
 "nbformat_minor": 5
}
