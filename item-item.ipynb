{
 "cells": [
  {
   "cell_type": "code",
   "execution_count": 1,
   "id": "5cdc2fbe",
   "metadata": {},
   "outputs": [],
   "source": [
    "import pickle\n",
    "import numpy as np\n",
    "import pandas as pd\n",
    "import matplotlib.pyplot as plt\n",
    "from sklearn.utils import shuffle\n",
    "from datetime import datetime\n",
    "from sortedcontainers import SortedList"
   ]
  },
  {
   "cell_type": "code",
   "execution_count": 2,
   "id": "e8cd713e",
   "metadata": {},
   "outputs": [],
   "source": [
    "import os\n",
    "if not os.path.exists('user2movie.json') or \\\n",
    "   not os.path.exists('movie2user.json') or \\\n",
    "   not os.path.exists('usermovie2rating.json') or \\\n",
    "   not os.path.exists('usermovie2rating_test.json'):\n",
    "   import preprocess2dict "
   ]
  },
  {
   "cell_type": "code",
   "execution_count": 3,
   "id": "2aeb0bcf",
   "metadata": {},
   "outputs": [],
   "source": [
    "with open('user2movie.json','rb') as f:\n",
    "    user2movie=pickle.load(f)\n",
    "with open('movie2user.json','rb') as f:\n",
    "    movie2user=pickle.load(f)\n",
    "with open('usermovie2rating.json','rb') as f:\n",
    "    usermovie2rating=pickle.load(f)\n",
    "with open('usermovie2rating_test.json','rb') as f:\n",
    "    usermovie2rating_test=pickle.load(f)"
   ]
  },
  {
   "cell_type": "code",
   "execution_count": 5,
   "id": "62d2be5f",
   "metadata": {},
   "outputs": [],
   "source": [
    "N = np.max(list(user2movie.keys()))+1\n",
    "m1=np.max(list(movie2user.keys()))\n",
    "m2=np.max([m for (u,m),r in usermovie2rating_test.items()])\n",
    "\n",
    "M = max(m1,m2)+1"
   ]
  },
  {
   "cell_type": "code",
   "execution_count": 27,
   "id": "58507fd2",
   "metadata": {},
   "outputs": [],
   "source": [
    "K=25\n",
    "limit=5\n",
    "neighbors=[]\n",
    "averages=[]\n",
    "deviations=[]\n",
    "\n",
    "for i in range(M):\n",
    "    \n",
    "    # to find 25 closest moview to movie i\n",
    "    users_i = movie2user[i]\n",
    "    ratings_i = {user: usermovie2rating[(user,i)] for user in users_i}\n",
    "    avg_i = np.mean(list(ratings_i.values()))\n",
    "    dev_i = {user: (rating - avg_i) for user, rating in ratings_i.items()}\n",
    "    dev_i_values = np.array(list(dev_i.values()))\n",
    "    sigma_i = np.sqrt(dev_i_values.dot(dev_i_values))\n",
    "    \n",
    "    averages.append(avg_i)\n",
    "    deviations.append(dev_i)\n",
    "    \n",
    "    sl = SortedList()\n",
    "    \n",
    "    for j in range(M):\n",
    "        if j!=i:\n",
    "            user_j = movie2user[j]\n",
    "            # & operation do works on a list, that is why using set to find the  common users\n",
    "            common_users = (set(user_j) & set(users_i))\n",
    "            if len(common_users)>limit:\n",
    "                ratings_j={user:usermovie2rating[(user,j)] for user in user_j}\n",
    "                avg_j = np.mean(list(ratings_j.values()))\n",
    "                dev_j={user:(rating-avg_j) for user,rating in ratings_j.items()}\n",
    "                dev_j_values= np.array(list(dev_j.values()))\n",
    "                sigma_j = np.sqrt(dev_j_values.dot(dev_j_values \n",
    "                \n",
    "                # calculate numerator for only common users only\n",
    "                numerator = sum(dev_i[u]*dev_j[u] for u in common_users)\n",
    "                w_ij = numerator/(sigma_i*sigma_j)\n",
    "                # insert into sorted list and truncate\n",
    "                # negate weight, because list is sorted ascending.\n",
    "                # maximum value (1) is \"closest\"\n",
    "                sl.add((-w_ij,j))\n",
    "                if len(sl)>K:\n",
    "                    del sl[-1]\n",
    "    \n",
    "    # we can simply get the neighbors by just using indexing.\n",
    "    neighbors.append(sl)\n",
    "    \n"
   ]
  },
  {
   "cell_type": "code",
   "execution_count": 28,
   "id": "e68827d3",
   "metadata": {},
   "outputs": [],
   "source": [
    "def predict(i,u):\n",
    "    numerator=0\n",
    "    denominator=0\n",
    "    for neg_w,j in neighbors[i]:\n",
    "        try:\n",
    "            numerator+=-neg_w*deviations[j][u]\n",
    "            denominator+=abs(neg_w)\n",
    "        except KeyError:\n",
    "            #neighbour may not have been rated by the same user\n",
    "            # don;t want to do dictionary lookup twice\n",
    "            # so just throw exception\n",
    "            pass\n",
    "        if denominator==0:\n",
    "            prediction=averages[i]\n",
    "        else:\n",
    "            prediction = numerator/denominator + averages[i]\n",
    "        predcition = min(5,prediction)\n",
    "        prediction = max(0.5, prediction)\n",
    "        return prediction\n",
    "        "
   ]
  },
  {
   "cell_type": "code",
   "execution_count": 29,
   "id": "5911f100",
   "metadata": {},
   "outputs": [],
   "source": [
    "train_predictions=[]\n",
    "train_targets=[]\n",
    "for (u,m), target in usermovie2rating.items():\n",
    "    # calculate the prediction for this movie\n",
    "    prediction =predict(m,u)\n",
    "\n",
    "    train_predictions.append(prediction)\n",
    "    train_targets.append(target)"
   ]
  },
  {
   "cell_type": "code",
   "execution_count": 30,
   "id": "e6c58d55",
   "metadata": {},
   "outputs": [],
   "source": [
    "test_predictions=[]\n",
    "test_targets=[]\n",
    "for (u,m), target in usermovie2rating_test.items():\n",
    "    # calculate the prediction for this movie\n",
    "    prediction =predict(m,u)\n",
    "\n",
    "    test_predictions.append(prediction)\n",
    "    test_targets.append(target)"
   ]
  },
  {
   "cell_type": "code",
   "execution_count": 31,
   "id": "e2dac7eb",
   "metadata": {},
   "outputs": [],
   "source": [
    "def mse(p,t):\n",
    "    p=np.array(p)\n",
    "    t=np.array(t)\n",
    "    return np.mean((p-t)**2)"
   ]
  },
  {
   "cell_type": "code",
   "execution_count": 32,
   "id": "ac34db4c",
   "metadata": {},
   "outputs": [
    {
     "name": "stdout",
     "output_type": "stream",
     "text": [
      "train mse:  0.8208719956212318\n",
      "test mse:  0.8671789742777469\n"
     ]
    }
   ],
   "source": [
    "print('train mse: ',mse(train_predictions,train_targets))\n",
    "print('test mse: ',mse(test_predictions,test_targets))"
   ]
  },
  {
   "cell_type": "code",
   "execution_count": null,
   "id": "055d7f49",
   "metadata": {},
   "outputs": [],
   "source": []
  }
 ],
 "metadata": {
  "kernelspec": {
   "display_name": "Python 3 (ipykernel)",
   "language": "python",
   "name": "python3"
  },
  "language_info": {
   "codemirror_mode": {
    "name": "ipython",
    "version": 3
   },
   "file_extension": ".py",
   "mimetype": "text/x-python",
   "name": "python",
   "nbconvert_exporter": "python",
   "pygments_lexer": "ipython3",
   "version": "3.9.7"
  }
 },
 "nbformat": 4,
 "nbformat_minor": 5
}
