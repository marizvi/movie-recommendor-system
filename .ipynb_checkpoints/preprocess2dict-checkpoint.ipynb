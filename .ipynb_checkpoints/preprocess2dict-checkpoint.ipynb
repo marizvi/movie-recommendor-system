{
 "cells": [
  {
   "cell_type": "markdown",
   "id": "c8ef36af",
   "metadata": {},
   "source": [
    "### Table to Dictionary\n",
    "* In code, I want to ask questions like:\n",
    "    * Given user i, which movies j did they rate?\n",
    "    * Given movie j, which users i have rated it?\n",
    "    * Given user i and movie j, what is the rating?\n",
    "* Theoratically, Pandas Dataframe is like an SQL table, so we should be able to write \"queries\" to grab this info?\n",
    "* Python dictionaries are already a key>value lookup\n",
    "    * user2movie: user ID -> movie ID\n",
    "    * movie2user: movieID -> user ID\n",
    "    * usermovie2rating: (user ID, movie ID) -> rating\n",
    "* Why dictionaries?    \n",
    "    * Looping through the array would be O(MN)    \n",
    "    * Looping through dictionary is O(|omega|), omega: set pf our ratings"
   ]
  },
  {
   "cell_type": "code",
   "execution_count": 5,
   "id": "a3a1aeb1",
   "metadata": {},
   "outputs": [],
   "source": [
    "import numpy as np\n",
    "import pandas as pd\n",
    "import matplotlib.pyplot as plt\n",
    "from sklearn.utils import shuffle"
   ]
  },
  {
   "cell_type": "code",
   "execution_count": 9,
   "id": "6e08fd8e",
   "metadata": {},
   "outputs": [],
   "source": [
    "df = pd.read_csv('./Data/very_small_rating.csv')"
   ]
  },
  {
   "cell_type": "code",
   "execution_count": 10,
   "id": "dc6ba907",
   "metadata": {},
   "outputs": [
    {
     "data": {
      "text/html": [
       "<div>\n",
       "<style scoped>\n",
       "    .dataframe tbody tr th:only-of-type {\n",
       "        vertical-align: middle;\n",
       "    }\n",
       "\n",
       "    .dataframe tbody tr th {\n",
       "        vertical-align: top;\n",
       "    }\n",
       "\n",
       "    .dataframe thead th {\n",
       "        text-align: right;\n",
       "    }\n",
       "</style>\n",
       "<table border=\"1\" class=\"dataframe\">\n",
       "  <thead>\n",
       "    <tr style=\"text-align: right;\">\n",
       "      <th></th>\n",
       "      <th>Unnamed: 0</th>\n",
       "      <th>Unnamed: 0.1</th>\n",
       "      <th>userId</th>\n",
       "      <th>movieId</th>\n",
       "      <th>rating</th>\n",
       "      <th>movie_idx</th>\n",
       "    </tr>\n",
       "  </thead>\n",
       "  <tbody>\n",
       "    <tr>\n",
       "      <th>0</th>\n",
       "      <td>960</td>\n",
       "      <td>960</td>\n",
       "      <td>7307</td>\n",
       "      <td>1</td>\n",
       "      <td>4.5</td>\n",
       "      <td>10</td>\n",
       "    </tr>\n",
       "    <tr>\n",
       "      <th>1</th>\n",
       "      <td>961</td>\n",
       "      <td>961</td>\n",
       "      <td>7307</td>\n",
       "      <td>10</td>\n",
       "      <td>2.5</td>\n",
       "      <td>68</td>\n",
       "    </tr>\n",
       "    <tr>\n",
       "      <th>2</th>\n",
       "      <td>962</td>\n",
       "      <td>962</td>\n",
       "      <td>7307</td>\n",
       "      <td>19</td>\n",
       "      <td>3.5</td>\n",
       "      <td>143</td>\n",
       "    </tr>\n",
       "    <tr>\n",
       "      <th>3</th>\n",
       "      <td>963</td>\n",
       "      <td>963</td>\n",
       "      <td>7307</td>\n",
       "      <td>32</td>\n",
       "      <td>5.0</td>\n",
       "      <td>19</td>\n",
       "    </tr>\n",
       "    <tr>\n",
       "      <th>4</th>\n",
       "      <td>964</td>\n",
       "      <td>964</td>\n",
       "      <td>7307</td>\n",
       "      <td>39</td>\n",
       "      <td>4.5</td>\n",
       "      <td>85</td>\n",
       "    </tr>\n",
       "  </tbody>\n",
       "</table>\n",
       "</div>"
      ],
      "text/plain": [
       "   Unnamed: 0  Unnamed: 0.1  userId  movieId  rating  movie_idx\n",
       "0         960           960    7307        1     4.5         10\n",
       "1         961           961    7307       10     2.5         68\n",
       "2         962           962    7307       19     3.5        143\n",
       "3         963           963    7307       32     5.0         19\n",
       "4         964           964    7307       39     4.5         85"
      ]
     },
     "execution_count": 10,
     "metadata": {},
     "output_type": "execute_result"
    }
   ],
   "source": [
    "df.head()"
   ]
  },
  {
   "cell_type": "code",
   "execution_count": 20,
   "id": "06e01845",
   "metadata": {},
   "outputs": [],
   "source": [
    "N = df.userId.max()+1\n",
    "M = df.movie_idx.max()+1"
   ]
  },
  {
   "cell_type": "code",
   "execution_count": 21,
   "id": "8248705d",
   "metadata": {},
   "outputs": [],
   "source": [
    "from sklearn.model_selection import train_test_split"
   ]
  },
  {
   "cell_type": "code",
   "execution_count": 22,
   "id": "b2fdc4de",
   "metadata": {},
   "outputs": [],
   "source": [
    "X = df.drop('rating',axis=1)\n",
    "y = df['rating']"
   ]
  },
  {
   "cell_type": "code",
   "execution_count": 49,
   "id": "b080a55e",
   "metadata": {},
   "outputs": [],
   "source": [
    "# train test split\n",
    "df = shuffle(df)\n",
    "cutoff = int(0.8*len(df))\n",
    "df_train = df.iloc[:cutoff]\n",
    "df_test = df.iloc[cutoff:]"
   ]
  },
  {
   "cell_type": "code",
   "execution_count": 59,
   "id": "d5c9cdd7",
   "metadata": {},
   "outputs": [],
   "source": [
    "user2movie=dict()\n",
    "movie2user=dict()\n",
    "usermovie2rating=dict()"
   ]
  },
  {
   "cell_type": "code",
   "execution_count": 64,
   "id": "1dc6394a",
   "metadata": {},
   "outputs": [],
   "source": [
    "count=0\n",
    "def update_user2movie_and_movie2user(row):\n",
    "    global count # using global count here\n",
    "    count+=1\n",
    "    if count%100000 == 0:\n",
    "        print(\"preprocessed: %.3f\" % (float(count)/cutoff))\n",
    "    i = int(row.userId)\n",
    "    j = int(row.movie_idx)\n",
    "    if i not in user2movie:\n",
    "        user2movie[i]=[j]\n",
    "    else:\n",
    "        user2movie[i].append(j)\n",
    "    if j not in movie2user:\n",
    "        movie2user[j]=[i]\n",
    "    else:\n",
    "        movie2user[j].append(i)\n",
    "    \n",
    "    usermovie2rating[(i,j)] = row.rating"
   ]
  },
  {
   "cell_type": "code",
   "execution_count": 75,
   "id": "af908dd1",
   "metadata": {},
   "outputs": [
    {
     "name": "stdout",
     "output_type": "stream",
     "text": [
      "preprocessed: 0.510\n",
      "preprocessed: 0.533\n",
      "preprocessed: 0.556\n",
      "preprocessed: 0.580\n",
      "preprocessed: 0.603\n",
      "preprocessed: 0.626\n",
      "preprocessed: 0.649\n",
      "preprocessed: 0.672\n",
      "preprocessed: 0.695\n",
      "preprocessed: 0.719\n",
      "preprocessed: 0.742\n",
      "preprocessed: 0.765\n",
      "preprocessed: 0.788\n",
      "preprocessed: 0.811\n",
      "preprocessed: 0.835\n",
      "preprocessed: 0.858\n",
      "preprocessed: 0.881\n",
      "preprocessed: 0.904\n",
      "preprocessed: 0.927\n",
      "preprocessed: 0.950\n",
      "preprocessed: 0.974\n",
      "preprocessed: 0.997\n",
      "preprocessed: 1.020\n",
      "preprocessed: 1.043\n",
      "preprocessed: 1.066\n",
      "preprocessed: 1.090\n",
      "preprocessed: 1.113\n",
      "preprocessed: 1.136\n",
      "preprocessed: 1.159\n",
      "preprocessed: 1.182\n",
      "preprocessed: 1.205\n",
      "preprocessed: 1.229\n",
      "preprocessed: 1.252\n",
      "preprocessed: 1.275\n",
      "preprocessed: 1.298\n",
      "preprocessed: 1.321\n",
      "preprocessed: 1.345\n",
      "preprocessed: 1.368\n",
      "preprocessed: 1.391\n",
      "preprocessed: 1.414\n",
      "preprocessed: 1.437\n",
      "preprocessed: 1.460\n",
      "preprocessed: 1.484\n"
     ]
    },
    {
     "data": {
      "text/plain": [
       "832817     None\n",
       "541292     None\n",
       "5232619    None\n",
       "3534255    None\n",
       "1193841    None\n",
       "           ... \n",
       "1591962    None\n",
       "5295376    None\n",
       "4243952    None\n",
       "4248271    None\n",
       "1471064    None\n",
       "Length: 4313620, dtype: object"
      ]
     },
     "execution_count": 75,
     "metadata": {},
     "output_type": "execute_result"
    }
   ],
   "source": [
    "df_train.apply(update_user2movie_and_movie2user,axis=1)"
   ]
  },
  {
   "cell_type": "code",
   "execution_count": 67,
   "id": "e49720a8",
   "metadata": {},
   "outputs": [],
   "source": [
    "# test ratings dictionary\n",
    "usermovie2rating_test = dict()\n"
   ]
  },
  {
   "cell_type": "code",
   "execution_count": 68,
   "id": "04b48163",
   "metadata": {},
   "outputs": [],
   "source": [
    "count=0\n",
    "def update_usermovie2rating_test(row):\n",
    "    global count\n",
    "    count+=1\n",
    "    if count % 100000 == 0:\n",
    "        print(\"preprocessed: %.3f\" % (float(count)/cutoff))\n",
    "    i = int(row.userId)\n",
    "    j = int(row.movie_idx)\n",
    "    usermovie2rating_test[(i,j)] = row.rating"
   ]
  },
  {
   "cell_type": "code",
   "execution_count": 70,
   "id": "7d521515",
   "metadata": {},
   "outputs": [
    {
     "name": "stdout",
     "output_type": "stream",
     "text": [
      "preprocessed: 0.255\n",
      "preprocessed: 0.278\n",
      "preprocessed: 0.301\n",
      "preprocessed: 0.325\n",
      "preprocessed: 0.348\n",
      "preprocessed: 0.371\n",
      "preprocessed: 0.394\n",
      "preprocessed: 0.417\n",
      "preprocessed: 0.440\n",
      "preprocessed: 0.464\n",
      "preprocessed: 0.487\n"
     ]
    },
    {
     "data": {
      "text/plain": [
       "4618337    None\n",
       "3917868    None\n",
       "5126314    None\n",
       "5319645    None\n",
       "2496638    None\n",
       "           ... \n",
       "4246265    None\n",
       "1102791    None\n",
       "4319043    None\n",
       "3755660    None\n",
       "3009782    None\n",
       "Length: 1078405, dtype: object"
      ]
     },
     "execution_count": 70,
     "metadata": {},
     "output_type": "execute_result"
    }
   ],
   "source": [
    "df_test.apply(update_usermovie2rating_test,axis=1)"
   ]
  },
  {
   "cell_type": "code",
   "execution_count": 73,
   "id": "e40152ee",
   "metadata": {},
   "outputs": [],
   "source": [
    "import pickle\n",
    "with open('user2movie.json','wb') as f:\n",
    "    pickle.dump(user2movie,f)\n",
    "with open('movie2user.json','wb') as f:\n",
    "    pickle.dump(movie2user,f)    \n",
    "with open('usermovie2rating.json','wb') as f:\n",
    "    pickle.dump(usermovie2rating,f)\n",
    "with open('usermovie2rating_test.json','wb') as f:\n",
    "    pickle.dump(usermovie2rating_test,f)"
   ]
  },
  {
   "cell_type": "code",
   "execution_count": null,
   "id": "bff1522f",
   "metadata": {},
   "outputs": [],
   "source": []
  }
 ],
 "metadata": {
  "kernelspec": {
   "display_name": "Python 3 (ipykernel)",
   "language": "python",
   "name": "python3"
  },
  "language_info": {
   "codemirror_mode": {
    "name": "ipython",
    "version": 3
   },
   "file_extension": ".py",
   "mimetype": "text/x-python",
   "name": "python",
   "nbconvert_exporter": "python",
   "pygments_lexer": "ipython3",
   "version": "3.9.7"
  }
 },
 "nbformat": 4,
 "nbformat_minor": 5
}
