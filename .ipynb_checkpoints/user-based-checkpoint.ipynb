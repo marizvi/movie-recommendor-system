{
 "cells": [
  {
   "cell_type": "code",
   "execution_count": 1,
   "id": "f3ce1074",
   "metadata": {},
   "outputs": [],
   "source": [
    "import pickle\n",
    "import numpy as np\n",
    "import pandas as pd\n",
    "import matplotlib.pyplot as plt\n",
    "from sklearn.utils import shuffle\n",
    "from datetime import datetime\n",
    "from sortedcontainers import SortedList"
   ]
  },
  {
   "cell_type": "code",
   "execution_count": 2,
   "id": "cc53912e",
   "metadata": {},
   "outputs": [],
   "source": [
    "import os\n",
    "if not os.path.exists('user2movie.json') or \\\n",
    "   not os.path.exists('movie2user.json') or \\\n",
    "   not os.path.exists('usermovie2rating.json') or \\\n",
    "   not os.path.exists('usermovie2rating_test.json'):\n",
    "   import preprocess2dict "
   ]
  },
  {
   "cell_type": "code",
   "execution_count": 3,
   "id": "5e8f057a",
   "metadata": {},
   "outputs": [],
   "source": [
    "with open('user2movie.json','rb') as f:\n",
    "    user2movie=pickle.load(f)\n",
    "with open('movie2user.json','rb') as f:\n",
    "    movie2user=pickle.load(f)\n",
    "with open('usermovie2rating.json','rb') as f:\n",
    "    usermovie2rating=pickle.load(f)\n",
    "with open('usermovie2rating_test.json','rb') as f:\n",
    "    usermovie2rating_test=pickle.load(f)"
   ]
  },
  {
   "cell_type": "code",
   "execution_count": null,
   "id": "1e91c2fc",
   "metadata": {},
   "outputs": [],
   "source": []
  },
  {
   "cell_type": "code",
   "execution_count": 4,
   "id": "a0e07082",
   "metadata": {},
   "outputs": [],
   "source": [
    "# test set may contain movies the train set doesn't have data on\n",
    "# having such possibility for userIds have less likelihood, so we\n",
    "# simply find N and not M, because for movies we want maximum movies to be \n",
    "# present.\n",
    "N = np.max(list(user2movie.keys()))+1 # number of users\n",
    "m1 = np.max(list(movie2user.keys()))\n",
    "m2 = np.max([m for (u,m), r in usermovie2rating_test.items()])\n",
    "\n",
    "M = max(m1,m2)+1\n"
   ]
  },
  {
   "cell_type": "code",
   "execution_count": 5,
   "id": "dab7bf95",
   "metadata": {},
   "outputs": [],
   "source": [
    "K=25 # number of neighbors we'd like to consider\n",
    "limit=5 #number of common movies users must have in common in order to consider\n",
    "neighbors=[]\n",
    "averages=[] #each user's average rating for later use\n",
    "deviations=[] # each user's deviation for later use\n",
    "\n",
    "for i in range(N):\n",
    "    # find the 25 closest users to user i\n",
    "    movies_i = user2movie[i]   \n",
    "    #which movies user i has rated\n",
    "    movies_i_set = set(movies_i)\n",
    "    \n",
    "    # calculate avg and deviation\n",
    "    ratings_i = { movie:usermovie2rating[(i,movie)] for movie in movies_i }\n",
    "    avg_i = np.mean(list(ratings_i.values()))\n",
    "    dev_i = { movie:(rating-avg_i) for movie, rating in ratings_i.items() }\n",
    "    dev_i_values = np.array(list(dev_i.values()))\n",
    "    sigma_i = np.sqrt(dev_i_values.dot(dev_i_values)) #denominator of pearson formula\n",
    "    \n",
    "    #save these for later\n",
    "    averages.append(avg_i)\n",
    "    deviations.append(dev_i)\n",
    "    \n",
    "    sl=SortedList()\n",
    "    # recompute everything for user j\n",
    "    for j in range(N):\n",
    "        # don't include yourself\n",
    "        if j!=i:\n",
    "            movies_j = user2movie[j]\n",
    "            movies_j_set = set(movies_j)\n",
    "            # & operation do works on a list, that is why using set to find the  common users\n",
    "            common_movies = (movies_i_set & movies_j_set)\n",
    "            if len(common_movies)>limit:\n",
    "                #calculate avg and deviation\n",
    "                ratings_j = {movie:usermovie2rating[(j,movie)] for movie in movies_j}\n",
    "                avg_j = np.mean(list(ratings_j.values()))\n",
    "                dev_j = { movie:(rating-avg_j) for movie, rating in ratings_j.items() }\n",
    "                dev_j_values = np.array(list(dev_j.values()))\n",
    "                sigma_j = np.sqrt(dev_j_values.dot(dev_j_values))\n",
    "                \n",
    "                #calculate correlation coefficient\n",
    "                numerator = sum(dev_i[m]*dev_j[m] for m in common_movies)\n",
    "                w_ij = numerator / (sigma_i * sigma_j) #pearson correlation\n",
    "                \n",
    "                # insert into sorted list and truncate\n",
    "                # negate weight, because list is sorted ascending.\n",
    "                # maximum value (1) is \"closest\"\n",
    "                sl.add((-w_ij,j))\n",
    "                if len(sl)>K:\n",
    "                    del sl[-1]\n",
    "    \n",
    "    # store the neighbors.\n",
    "    neighbors.append(sl)\n",
    "    # another advantage of keeping data sequential is now we can\n",
    "    # easily get the neighbors of some user by just using ts index.\n",
    "    \n",
    "    if(i%1==0):\n",
    "        print(i)"
   ]
  },
  {
   "cell_type": "code",
   "execution_count": 6,
   "id": "d848c5ab",
   "metadata": {},
   "outputs": [],
   "source": [
    "# using neighbors, calculate train and test MSE\n",
    "\n",
    "def predict(i,m):\n",
    "    numerator=0\n",
    "    denominator=0\n",
    "    for neg_w,j in neighbors[i]:\n",
    "        # remember, the weight is stored as its negative\n",
    "        # so the negative of the negative weight is the positive weight\n",
    "        # try catch is used if some user didn't watch that movie\n",
    "        try:\n",
    "            numerator += -neg_w*deviations[j][m]\n",
    "            denominator += abs(neg_w)\n",
    "        except KeyError:\n",
    "            # neighbor may not have rated the same movie\n",
    "            # don't want to do dictionary lookup twice\n",
    "            # so just throw exception\n",
    "            pass\n",
    "    if denominator==0:\n",
    "        prediction = averages[i]\n",
    "    else:\n",
    "        prediction = numerator/denominator + averages[i]\n",
    "    prediction = min(5,prediction)\n",
    "    prediction = max(0.5,prediction)\n",
    "    return prediction\n",
    "    "
   ]
  },
  {
   "cell_type": "code",
   "execution_count": 7,
   "id": "adb305ae",
   "metadata": {},
   "outputs": [],
   "source": [
    "train_predictions=[]\n",
    "train_targets=[]\n",
    "for (i,m), target in usermovie2rating.items():\n",
    "    #calculate prediction for this movie\n",
    "    prediction = predict(i,m)\n",
    "    \n",
    "    # save the prediction and target\n",
    "    train_predictions.append(prediction)\n",
    "    train_targets.append(target)\n",
    "    "
   ]
  },
  {
   "cell_type": "code",
   "execution_count": 9,
   "id": "cea7c26c",
   "metadata": {},
   "outputs": [],
   "source": [
    "test_predictions=[]\n",
    "test_targets=[]\n",
    "\n",
    "for(i,m), target in usermovie2rating_test.items():\n",
    "    #calculate the prediction for this movie\n",
    "    prediction = predict(i,m)\n",
    "    \n",
    "    #save the prediction and target\n",
    "    test_predictions.append(prediction)\n",
    "    test_targets.append(target)"
   ]
  },
  {
   "cell_type": "code",
   "execution_count": 10,
   "id": "441323be",
   "metadata": {},
   "outputs": [],
   "source": [
    "def mse(p,t):\n",
    "    p=np.array(p)\n",
    "    t=np.array(t)\n",
    "    return np.mean((p-t)**2)"
   ]
  },
  {
   "cell_type": "code",
   "execution_count": 11,
   "id": "491cc7a8",
   "metadata": {},
   "outputs": [
    {
     "name": "stdout",
     "output_type": "stream",
     "text": [
      "train mse:  0.4627946623419008\n",
      "test mse:  0.5900101454922029\n"
     ]
    }
   ],
   "source": [
    "print('train mse: ',mse(train_predictions,train_targets))\n",
    "print('test mse: ',mse(test_predictions,test_targets))"
   ]
  },
  {
   "cell_type": "code",
   "execution_count": null,
   "id": "02f6e975",
   "metadata": {},
   "outputs": [],
   "source": []
  }
 ],
 "metadata": {
  "kernelspec": {
   "display_name": "Python 3 (ipykernel)",
   "language": "python",
   "name": "python3"
  },
  "language_info": {
   "codemirror_mode": {
    "name": "ipython",
    "version": 3
   },
   "file_extension": ".py",
   "mimetype": "text/x-python",
   "name": "python",
   "nbconvert_exporter": "python",
   "pygments_lexer": "ipython3",
   "version": "3.9.7"
  }
 },
 "nbformat": 4,
 "nbformat_minor": 5
}
