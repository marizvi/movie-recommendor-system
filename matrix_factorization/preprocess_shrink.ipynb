{
 "cells": [
  {
   "cell_type": "markdown",
   "id": "d6e37206",
   "metadata": {},
   "source": [
    "#### Idea:\n",
    "* select subset of users and movies\n",
    "* Users who rated the most movies.\n",
    "* Movies who've been rated by the most users"
   ]
  },
  {
   "cell_type": "code",
   "execution_count": 1,
   "id": "b18b4152",
   "metadata": {},
   "outputs": [],
   "source": [
    "import numpy as np\n",
    "import pandas as pd\n",
    "import matplotlib.pyplot as plt\n",
    "from collections import Counter"
   ]
  },
  {
   "cell_type": "code",
   "execution_count": 2,
   "id": "5fe9093f",
   "metadata": {},
   "outputs": [],
   "source": [
    "df = pd.read_csv('../Data/edited_rating.csv')"
   ]
  },
  {
   "cell_type": "code",
   "execution_count": 3,
   "id": "eba08e3e",
   "metadata": {},
   "outputs": [],
   "source": [
    "# set(df['movie_idx'].values)"
   ]
  },
  {
   "cell_type": "code",
   "execution_count": 4,
   "id": "b8bcd10d",
   "metadata": {},
   "outputs": [],
   "source": [
    "N = df.userId.max()+1\n",
    "M = df.movie_idx.max()+1\n",
    "\n",
    "user_ids_count = Counter(df.userId)\n",
    "movie_ids_count = Counter(df.movie_idx)\n",
    "\n",
    "n=1000\n",
    "m=200\n",
    "\n",
    "# most_commmon is from Counter object\n",
    "user_ids = [u for u,c in user_ids_count.most_common(n)]\n",
    "movie_ids = [m for m,c in movie_ids_count.most_common(m)]"
   ]
  },
  {
   "cell_type": "code",
   "execution_count": 5,
   "id": "5ac4bc9b",
   "metadata": {},
   "outputs": [],
   "source": [
    "# make a copy, otherwise ids won't be overwritten\n",
    "\n",
    "# if we are usinf new_df = old_df it means new_df is now only referencing \n",
    "# to old_df hence we cannot modify new_df, so in order to modify new_df\n",
    "# we need to copy old_df contents to new_df.\n",
    "\n",
    "df_small = df[df.userId.isin(user_ids) & df.movie_idx.isin(movie_ids)].copy()"
   ]
  },
  {
   "cell_type": "code",
   "execution_count": 6,
   "id": "6d81ed25",
   "metadata": {},
   "outputs": [],
   "source": [
    "\n",
    "# need to remake user ids and movie ids since they are no longer sequential\n",
    "# sequential means all should present from 0 to n, none of them should be missing\n",
    "new_user_id_map={}\n",
    "i=0\n",
    "for old in user_ids:\n",
    "    new_user_id_map[old]=i\n",
    "    i+=1\n",
    "new_movie_id_map={}\n",
    "j=0\n",
    "for old in movie_ids:\n",
    "    new_movie_id_map[old]=j\n",
    "    j+=1    "
   ]
  },
  {
   "cell_type": "code",
   "execution_count": 7,
   "id": "a44ef495",
   "metadata": {},
   "outputs": [
    {
     "data": {
      "text/plain": [
       "13174         115\n",
       "13175         115\n",
       "13177         115\n",
       "13180         115\n",
       "13181         115\n",
       "            ...  \n",
       "12503497    86392\n",
       "12503596    86392\n",
       "12503613    86392\n",
       "12503614    86392\n",
       "12503640    86392\n",
       "Name: userId, Length: 162884, dtype: int64"
      ]
     },
     "execution_count": 7,
     "metadata": {},
     "output_type": "execute_result"
    }
   ],
   "source": [
    "df_small['userId']"
   ]
  },
  {
   "cell_type": "code",
   "execution_count": 8,
   "id": "29d4b682",
   "metadata": {},
   "outputs": [
    {
     "data": {
      "text/plain": [
       "13174         115\n",
       "13175         115\n",
       "13177         115\n",
       "13180         115\n",
       "13181         115\n",
       "            ...  \n",
       "12503497    86392\n",
       "12503596    86392\n",
       "12503613    86392\n",
       "12503614    86392\n",
       "12503640    86392\n",
       "Name: userId, Length: 162884, dtype: int64"
      ]
     },
     "execution_count": 8,
     "metadata": {},
     "output_type": "execute_result"
    }
   ],
   "source": [
    "df_small.loc[:,'userId']"
   ]
  },
  {
   "cell_type": "code",
   "execution_count": null,
   "id": "8da28c7a",
   "metadata": {
    "scrolled": true
   },
   "outputs": [],
   "source": []
  },
  {
   "cell_type": "code",
   "execution_count": 9,
   "id": "3681d564",
   "metadata": {},
   "outputs": [],
   "source": [
    "# whenever we try to replace all values of a column of data frame we have to \n",
    "# use .loc[:] notation.\n",
    "df_small.loc[:,'userId'] = df_small.apply(lambda row:new_user_id_map[row.userId],axis=1)"
   ]
  },
  {
   "cell_type": "code",
   "execution_count": 10,
   "id": "986ef794",
   "metadata": {},
   "outputs": [],
   "source": [
    "df_small.loc[:,'movie_idx'] = df_small.apply(lambda row:new_movie_id_map[row.movie_idx],axis=1)"
   ]
  },
  {
   "cell_type": "code",
   "execution_count": 11,
   "id": "257179cf",
   "metadata": {},
   "outputs": [
    {
     "data": {
      "text/plain": [
       "999"
      ]
     },
     "execution_count": 11,
     "metadata": {},
     "output_type": "execute_result"
    }
   ],
   "source": [
    "df_small.userId.max()\n"
   ]
  },
  {
   "cell_type": "code",
   "execution_count": 12,
   "id": "678b491d",
   "metadata": {},
   "outputs": [
    {
     "data": {
      "text/plain": [
       "199"
      ]
     },
     "execution_count": 12,
     "metadata": {},
     "output_type": "execute_result"
    }
   ],
   "source": [
    "df_small.movie_idx.max()"
   ]
  },
  {
   "cell_type": "code",
   "execution_count": 13,
   "id": "e076cf37",
   "metadata": {},
   "outputs": [
    {
     "data": {
      "text/plain": [
       "162884"
      ]
     },
     "execution_count": 13,
     "metadata": {},
     "output_type": "execute_result"
    }
   ],
   "source": [
    "len(df_small)"
   ]
  },
  {
   "cell_type": "code",
   "execution_count": 15,
   "id": "d61a2ad3",
   "metadata": {},
   "outputs": [],
   "source": [
    "df_small.to_csv('../Data/very_small_rating.csv')"
   ]
  },
  {
   "cell_type": "code",
   "execution_count": null,
   "id": "0b5bc7b6",
   "metadata": {},
   "outputs": [],
   "source": []
  },
  {
   "cell_type": "code",
   "execution_count": null,
   "id": "d5bbbd0f",
   "metadata": {},
   "outputs": [],
   "source": []
  },
  {
   "cell_type": "code",
   "execution_count": null,
   "id": "4a08609c",
   "metadata": {},
   "outputs": [],
   "source": []
  },
  {
   "cell_type": "code",
   "execution_count": null,
   "id": "74865baa",
   "metadata": {},
   "outputs": [],
   "source": []
  },
  {
   "cell_type": "code",
   "execution_count": null,
   "id": "7d7a6098",
   "metadata": {},
   "outputs": [],
   "source": []
  }
 ],
 "metadata": {
  "kernelspec": {
   "display_name": "Python 3 (ipykernel)",
   "language": "python",
   "name": "python3"
  },
  "language_info": {
   "codemirror_mode": {
    "name": "ipython",
    "version": 3
   },
   "file_extension": ".py",
   "mimetype": "text/x-python",
   "name": "python",
   "nbconvert_exporter": "python",
   "pygments_lexer": "ipython3",
   "version": "3.9.13"
  }
 },
 "nbformat": 4,
 "nbformat_minor": 5
}
