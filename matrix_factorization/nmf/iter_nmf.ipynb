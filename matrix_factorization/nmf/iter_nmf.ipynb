{
 "cells": [
  {
   "cell_type": "markdown",
   "metadata": {},
   "source": [
    "#### NMF on Movie Recommender System\n",
    "\n",
    "**Problem Statement:**\n",
    "\n",
    "Implementing MovieRecomender System using Collaborative Filtering Technique.\n",
    "\n",
    "* **Collaborative Filtering:** In this, the past data of the current user's behaviour is analysed to establish relation between other users and movies, to recommend a movie to a user based on opinions of other users.\n",
    "\n",
    "![Alt text](CF-img.png)\n",
    "\n",
    "***Thus the goal of collaborative filtering is that we want to guess what you might rate a movie you haven’t seen yet.***"
   ]
  },
  {
   "cell_type": "code",
   "execution_count": 2,
   "metadata": {},
   "outputs": [],
   "source": [
    "import numpy as np\n",
    "import pandas as pd\n",
    "import matplotlib.pyplot as plt\n",
    "import seaborn as sns\n",
    "from sklearn.utils import shuffle\n"
   ]
  },
  {
   "cell_type": "code",
   "execution_count": 3,
   "metadata": {},
   "outputs": [],
   "source": [
    "df = pd.read_csv('./data/very_small_rating.csv')"
   ]
  },
  {
   "cell_type": "code",
   "execution_count": 4,
   "metadata": {},
   "outputs": [
    {
     "data": {
      "text/html": [
       "<div>\n",
       "<style scoped>\n",
       "    .dataframe tbody tr th:only-of-type {\n",
       "        vertical-align: middle;\n",
       "    }\n",
       "\n",
       "    .dataframe tbody tr th {\n",
       "        vertical-align: top;\n",
       "    }\n",
       "\n",
       "    .dataframe thead th {\n",
       "        text-align: right;\n",
       "    }\n",
       "</style>\n",
       "<table border=\"1\" class=\"dataframe\">\n",
       "  <thead>\n",
       "    <tr style=\"text-align: right;\">\n",
       "      <th></th>\n",
       "      <th>Unnamed: 0</th>\n",
       "      <th>userId</th>\n",
       "      <th>movieId</th>\n",
       "      <th>rating</th>\n",
       "      <th>timestamp</th>\n",
       "      <th>movie_idx</th>\n",
       "    </tr>\n",
       "  </thead>\n",
       "  <tbody>\n",
       "    <tr>\n",
       "      <th>0</th>\n",
       "      <td>19846</td>\n",
       "      <td>191</td>\n",
       "      <td>1</td>\n",
       "      <td>5.0</td>\n",
       "      <td>2002-11-19 20:54:26</td>\n",
       "      <td>11</td>\n",
       "    </tr>\n",
       "    <tr>\n",
       "      <th>1</th>\n",
       "      <td>19847</td>\n",
       "      <td>191</td>\n",
       "      <td>2</td>\n",
       "      <td>5.0</td>\n",
       "      <td>2002-12-26 21:20:49</td>\n",
       "      <td>126</td>\n",
       "    </tr>\n",
       "    <tr>\n",
       "      <th>2</th>\n",
       "      <td>19848</td>\n",
       "      <td>191</td>\n",
       "      <td>3</td>\n",
       "      <td>2.0</td>\n",
       "      <td>2002-12-02 03:53:45</td>\n",
       "      <td>329</td>\n",
       "    </tr>\n",
       "    <tr>\n",
       "      <th>3</th>\n",
       "      <td>19849</td>\n",
       "      <td>191</td>\n",
       "      <td>4</td>\n",
       "      <td>3.0</td>\n",
       "      <td>2002-12-02 04:03:23</td>\n",
       "      <td>1647</td>\n",
       "    </tr>\n",
       "    <tr>\n",
       "      <th>4</th>\n",
       "      <td>19850</td>\n",
       "      <td>191</td>\n",
       "      <td>5</td>\n",
       "      <td>3.0</td>\n",
       "      <td>2002-12-26 23:16:23</td>\n",
       "      <td>360</td>\n",
       "    </tr>\n",
       "  </tbody>\n",
       "</table>\n",
       "</div>"
      ],
      "text/plain": [
       "   Unnamed: 0  userId  movieId  rating            timestamp  movie_idx\n",
       "0       19846     191        1     5.0  2002-11-19 20:54:26         11\n",
       "1       19847     191        2     5.0  2002-12-26 21:20:49        126\n",
       "2       19848     191        3     2.0  2002-12-02 03:53:45        329\n",
       "3       19849     191        4     3.0  2002-12-02 04:03:23       1647\n",
       "4       19850     191        5     3.0  2002-12-26 23:16:23        360"
      ]
     },
     "execution_count": 4,
     "metadata": {},
     "output_type": "execute_result"
    }
   ],
   "source": [
    "df.head()"
   ]
  },
  {
   "cell_type": "code",
   "execution_count": 5,
   "metadata": {},
   "outputs": [
    {
     "data": {
      "text/plain": [
       "(983511, 6)"
      ]
     },
     "execution_count": 5,
     "metadata": {},
     "output_type": "execute_result"
    }
   ],
   "source": [
    "df.shape"
   ]
  },
  {
   "cell_type": "code",
   "execution_count": 6,
   "metadata": {},
   "outputs": [
    {
     "data": {
      "text/plain": [
       "1"
      ]
     },
     "execution_count": 6,
     "metadata": {},
     "output_type": "execute_result"
    }
   ],
   "source": [
    "df.userId.min()\n",
    "df.movie_idx.min()"
   ]
  },
  {
   "cell_type": "code",
   "execution_count": 7,
   "metadata": {},
   "outputs": [],
   "source": [
    "from scipy import sparse\n",
    "def generate_r_matrix(X,y,shape):\n",
    "    row = X[:,0]\n",
    "    col = X[:,1]\n",
    "    data = y\n",
    "    matrix_sparse = sparse.csr_matrix((data, (row, col)), shape=(shape[0]+1,shape[1]+1))\n",
    "    R = matrix_sparse.todense()\n",
    "    R = R[1:,1:] # since our userId and movieId starts with 1 only, as a result we dont have\n",
    "    # 0 movie id and 0 userId entries.\n",
    "    R = np.asarray(R)\n",
    "    return R"
   ]
  },
  {
   "cell_type": "code",
   "execution_count": 8,
   "metadata": {},
   "outputs": [
    {
     "data": {
      "text/plain": [
       "1000"
      ]
     },
     "execution_count": 8,
     "metadata": {},
     "output_type": "execute_result"
    }
   ],
   "source": [
    "df['userId'].max()"
   ]
  },
  {
   "cell_type": "code",
   "execution_count": 9,
   "metadata": {},
   "outputs": [
    {
     "data": {
      "text/plain": [
       "2000"
      ]
     },
     "execution_count": 9,
     "metadata": {},
     "output_type": "execute_result"
    }
   ],
   "source": [
    "df['movie_idx'].max()"
   ]
  },
  {
   "cell_type": "code",
   "execution_count": 10,
   "metadata": {},
   "outputs": [],
   "source": [
    "X = df[['userId', 'movie_idx']].values\n",
    "y = df['rating'].values"
   ]
  },
  {
   "cell_type": "code",
   "execution_count": 11,
   "metadata": {},
   "outputs": [
    {
     "data": {
      "text/plain": [
       "(1000, 2000)"
      ]
     },
     "execution_count": 11,
     "metadata": {},
     "output_type": "execute_result"
    }
   ],
   "source": [
    "n_users = len(df['userId'].unique())\n",
    "n_items = len(df['movie_idx'].unique())\n",
    "\n",
    "R_shape = (n_users,n_items)\n",
    "R_shape"
   ]
  },
  {
   "cell_type": "code",
   "execution_count": 12,
   "metadata": {},
   "outputs": [],
   "source": [
    "from sklearn.model_selection import train_test_split\n",
    "\n",
    "X_train, X_test, y_train, y_test = train_test_split(X, y, test_size=0.33)\n",
    "R = generate_r_matrix(X_train,y_train,R_shape)\n",
    "R_test = generate_r_matrix(X_test,y_test,R_shape)"
   ]
  },
  {
   "cell_type": "code",
   "execution_count": 13,
   "metadata": {},
   "outputs": [
    {
     "data": {
      "text/plain": [
       "(1000, 2000)"
      ]
     },
     "execution_count": 13,
     "metadata": {},
     "output_type": "execute_result"
    }
   ],
   "source": [
    "R.shape"
   ]
  },
  {
   "cell_type": "code",
   "execution_count": 14,
   "metadata": {},
   "outputs": [
    {
     "data": {
      "text/plain": [
       "array([[0. , 0. , 4. , ..., 4. , 3. , 0. ],\n",
       "       [5. , 4.5, 4.5, ..., 4.5, 0. , 0. ],\n",
       "       [5. , 4. , 5. , ..., 5. , 0. , 4. ],\n",
       "       ...,\n",
       "       [0. , 0. , 0. , ..., 0. , 0. , 0. ],\n",
       "       [3. , 0. , 4. , ..., 0. , 0. , 0. ],\n",
       "       [5. , 4. , 5. , ..., 0. , 0. , 0. ]])"
      ]
     },
     "execution_count": 14,
     "metadata": {},
     "output_type": "execute_result"
    }
   ],
   "source": [
    "R"
   ]
  },
  {
   "cell_type": "markdown",
   "metadata": {},
   "source": [
    "* We can see that there are many entries in R matrix which are zero, this states that user u haven't watched movie m yet.\n",
    "* Our aim is to guess all these zero entries which simply means that \"what rating a user u will give if he watches the movie m.\""
   ]
  },
  {
   "cell_type": "code",
   "execution_count": 15,
   "metadata": {},
   "outputs": [
    {
     "name": "stdout",
     "output_type": "stream",
     "text": [
      "4.5\n"
     ]
    }
   ],
   "source": [
    "print(R[1,2]) # rating of movie 3rd by user 2nd is:"
   ]
  },
  {
   "cell_type": "markdown",
   "metadata": {},
   "source": [
    "#### Computing the sparsity of R"
   ]
  },
  {
   "cell_type": "code",
   "execution_count": 16,
   "metadata": {},
   "outputs": [
    {
     "name": "stdout",
     "output_type": "stream",
     "text": [
      "0.329476\n"
     ]
    }
   ],
   "source": [
    "print(np.count_nonzero(R) / float(R.shape[0] * R.shape[1]))\n"
   ]
  },
  {
   "cell_type": "code",
   "execution_count": 17,
   "metadata": {},
   "outputs": [],
   "source": [
    "train_loss=[]\n",
    "test_loss=[]"
   ]
  },
  {
   "cell_type": "code",
   "execution_count": 18,
   "metadata": {},
   "outputs": [],
   "source": [
    "import numpy as np\n",
    "\n",
    "def nmf(R,R_test, k, max_iter=1000, tol=1e-4):\n",
    "\n",
    "    # Initialize random W and H matrices with non-negative values.\n",
    "    m, n = R.shape\n",
    "    W = np.random.rand(m, k)\n",
    "    H = np.random.rand(k, n)\n",
    "    \n",
    "    for i in range(max_iter):\n",
    "        # Update H using multiplicative updates.\n",
    "        H *= (W.T @ R) / (W.T @ W @ H)\n",
    "\n",
    "        # Update W using multiplicative updates.\n",
    "        W *= (R @ H.T) / (W @ H @ H.T)\n",
    "\n",
    "        residual = np.linalg.norm(R - W @ H)\n",
    "        train_loss.append(residual)\n",
    "        test_loss.append(np.linalg.norm(R_test - W @ H))\n",
    "        \n",
    "        # print train and test loss\n",
    "        if i % 100 == 0:\n",
    "            print(f'iter: {i}, train_loss: {train_loss[i]}, test_loss: {test_loss[i]}')\n",
    "\n",
    "        if residual < tol:\n",
    "            break\n",
    "\n",
    "    return W, H\n"
   ]
  },
  {
   "cell_type": "code",
   "execution_count": 19,
   "metadata": {},
   "outputs": [
    {
     "name": "stdout",
     "output_type": "stream",
     "text": [
      "iter: 0, train_loss: 2240.108848239253, test_loss: 2014.4222839262022\n",
      "iter: 100, train_loss: 2064.78537362256, test_loss: 2063.891309610583\n",
      "iter: 200, train_loss: 2059.4924703417596, test_loss: 2064.8882850145974\n",
      "iter: 300, train_loss: 2058.0752665610007, test_loss: 2064.7340767071155\n",
      "iter: 400, train_loss: 2057.310539417643, test_loss: 2064.52523662224\n",
      "iter: 500, train_loss: 2056.812888986773, test_loss: 2064.428336950743\n",
      "iter: 600, train_loss: 2056.4291082547356, test_loss: 2064.358390953082\n",
      "iter: 700, train_loss: 2056.144911369114, test_loss: 2064.304711702436\n",
      "iter: 800, train_loss: 2055.920429292536, test_loss: 2064.2977803943954\n",
      "iter: 900, train_loss: 2055.732249134756, test_loss: 2064.2949342912625\n"
     ]
    }
   ],
   "source": [
    "# Number of latent features.\n",
    "k = 20\n",
    "\n",
    "W, H = nmf(R,R_test,k)"
   ]
  },
  {
   "cell_type": "code",
   "execution_count": 20,
   "metadata": {},
   "outputs": [
    {
     "data": {
      "text/plain": [
       "array([0, 0, 0, 0, 0, 0, 0, 0, 0, 0, 0, 0, 0, 0, 0, 0, 0, 0, 0, 0])"
      ]
     },
     "execution_count": 20,
     "metadata": {},
     "output_type": "execute_result"
    }
   ],
   "source": [
    "np.sum(W<0,axis=0)"
   ]
  },
  {
   "cell_type": "code",
   "execution_count": 21,
   "metadata": {},
   "outputs": [
    {
     "data": {
      "text/plain": [
       "array([[3.17584808e+00, 1.13202165e-01, 2.04150029e-01, ...,\n",
       "        1.14847966e+00, 1.12865659e+00, 2.87821861e+00],\n",
       "       [1.00168254e+00, 3.68810385e-01, 5.34723589e-16, ...,\n",
       "        1.10579059e+00, 1.15598946e+00, 2.67984627e+00],\n",
       "       [1.55414902e+00, 4.99028243e-13, 7.27285224e-25, ...,\n",
       "        1.14271116e+00, 6.78488286e-01, 3.63567613e+00],\n",
       "       ...,\n",
       "       [1.13940174e+00, 4.08709424e-09, 1.47428402e+00, ...,\n",
       "        2.08390671e+00, 6.59444711e-54, 1.14355091e-69],\n",
       "       [2.43990505e-37, 4.84696919e-01, 1.23119564e+00, ...,\n",
       "        1.18678766e+00, 2.78208054e-49, 1.08265176e-76],\n",
       "       [8.61916670e-64, 4.99679078e-14, 1.96148137e+00, ...,\n",
       "        2.51658244e-18, 2.30506929e-01, 5.66738401e-01]])"
      ]
     },
     "execution_count": 21,
     "metadata": {},
     "output_type": "execute_result"
    }
   ],
   "source": [
    "W"
   ]
  },
  {
   "cell_type": "code",
   "execution_count": 22,
   "metadata": {},
   "outputs": [
    {
     "data": {
      "text/plain": [
       "<matplotlib.legend.Legend at 0x1d024720208>"
      ]
     },
     "execution_count": 22,
     "metadata": {},
     "output_type": "execute_result"
    },
    {
     "data": {
      "image/png": "[encoded data removed]",
      "text/plain": [
       "<Figure size 640x480 with 1 Axes>"
      ]
     },
     "metadata": {},
     "output_type": "display_data"
    }
   ],
   "source": [
    "plt.plot(train_loss, label='train loss')\n",
    "plt.plot(test_loss, label='test loss')\n",
    "plt.xlabel('Iterations')\n",
    "plt.ylabel('Loss')\n",
    "plt.legend()"
   ]
  },
  {
   "cell_type": "code",
   "execution_count": 35,
   "metadata": {},
   "outputs": [],
   "source": [
    "R_pred = W @ H"
   ]
  },
  {
   "cell_type": "code",
   "execution_count": 40,
   "metadata": {},
   "outputs": [],
   "source": [
    "R_pred[R_pred>5]=5\n",
    "R_pred[R_pred<1]=1"
   ]
  },
  {
   "cell_type": "code",
   "execution_count": 41,
   "metadata": {},
   "outputs": [],
   "source": [
    "from sklearn.metrics import mean_squared_error\n",
    "\n",
    "def get_rmse(pred, actual):\n",
    "    pred = pred[actual.nonzero()].flatten()     \n",
    "    actual = actual[actual.nonzero()].flatten() \n",
    "    return np.sqrt(mean_squared_error(pred, actual))"
   ]
  },
  {
   "cell_type": "code",
   "execution_count": 42,
   "metadata": {},
   "outputs": [
    {
     "data": {
      "text/plain": [
       "1.9569657844230057"
      ]
     },
     "execution_count": 42,
     "metadata": {},
     "output_type": "execute_result"
    }
   ],
   "source": [
    "get_rmse(R_pred,R_test)"
   ]
  },
  {
   "cell_type": "code",
   "execution_count": 44,
   "metadata": {},
   "outputs": [
    {
     "data": {
      "text/plain": [
       "2000000.0"
      ]
     },
     "execution_count": 44,
     "metadata": {},
     "output_type": "execute_result"
    }
   ],
   "source": [
    "float(R_pred.shape[0] * R_pred.shape[1])"
   ]
  },
  {
   "cell_type": "code",
   "execution_count": 43,
   "metadata": {},
   "outputs": [
    {
     "data": {
      "text/plain": [
       "2000000"
      ]
     },
     "execution_count": 43,
     "metadata": {},
     "output_type": "execute_result"
    }
   ],
   "source": [
    "np.count_nonzero(R_pred)"
   ]
  },
  {
   "cell_type": "markdown",
   "metadata": {},
   "source": [
    "We can see that our R_pred is now filled with non zero entries. This means that we have predicted the ratings of all the movies, even if any user haven't watched one."
   ]
  },
  {
   "cell_type": "code",
   "execution_count": 47,
   "metadata": {},
   "outputs": [
    {
     "data": {
      "text/plain": [
       "2.3133572117381127"
      ]
     },
     "execution_count": 47,
     "metadata": {},
     "output_type": "execute_result"
    }
   ],
   "source": [
    "R_pred[3,4]\n",
    "# [3,4] signifies the rating given by user with userId 4 to movie with movieId 5"
   ]
  },
  {
   "cell_type": "code",
   "execution_count": null,
   "metadata": {},
   "outputs": [],
   "source": []
  },
  {
   "cell_type": "code",
   "execution_count": null,
   "metadata": {},
   "outputs": [],
   "source": []
  }
 ],
 "metadata": {
  "kernelspec": {
   "display_name": "mytfenv",
   "language": "python",
   "name": "python3"
  },
  "language_info": {
   "codemirror_mode": {
    "name": "ipython",
    "version": 3
   },
   "file_extension": ".py",
   "mimetype": "text/x-python",
   "name": "python",
   "nbconvert_exporter": "python",
   "pygments_lexer": "ipython3",
   "version": "3.7.16"
  },
  "orig_nbformat": 4
 },
 "nbformat": 4,
 "nbformat_minor": 2
}
