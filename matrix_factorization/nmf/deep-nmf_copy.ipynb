{
 "cells": [
  {
   "cell_type": "markdown",
   "metadata": {},
   "source": [
    "##### Deep MF"
   ]
  },
  {
   "cell_type": "code",
   "execution_count": 1,
   "metadata": {},
   "outputs": [],
   "source": [
    "import numpy as np\n",
    "import pandas as pd\n",
    "import pickle\n",
    "import matplotlib.pyplot as plt\n",
    "from sklearn.utils import shuffle\n",
    "from datetime import datetime"
   ]
  },
  {
   "cell_type": "code",
   "execution_count": 2,
   "metadata": {},
   "outputs": [],
   "source": [
    "from tensorflow.keras.models import Model\n",
    "from tensorflow.keras.layers import Input, Embedding, Flatten, Dense, Concatenate, Dot\n",
    "from tensorflow.keras.layers import Dropout, BatchNormalization, Activation\n",
    "from tensorflow.keras.regularizers import l2\n",
    "from tensorflow.keras.optimizers.legacy import Adam\n",
    "from tensorflow.keras.optimizers import SGD"
   ]
  },
  {
   "cell_type": "code",
   "execution_count": 3,
   "metadata": {},
   "outputs": [],
   "source": [
    "df = pd.read_csv('./data/very_small_rating.csv')"
   ]
  },
  {
   "cell_type": "code",
   "execution_count": 31,
   "metadata": {},
   "outputs": [],
   "source": [
    "N = df.userId.max() + 1 # number of users\n",
    "M = df.movie_idx.max() + 1 # number of movies\n",
    "K=64\n",
    "reg = 0. # regularization penalty"
   ]
  },
  {
   "cell_type": "code",
   "execution_count": 32,
   "metadata": {},
   "outputs": [],
   "source": [
    "df = shuffle(df)\n",
    "cutoff = int(0.8 * len(df))\n",
    "df_train = df.iloc[:cutoff]\n",
    "df_test = df.iloc[cutoff:]"
   ]
  },
  {
   "cell_type": "code",
   "execution_count": 33,
   "metadata": {},
   "outputs": [],
   "source": [
    "# keras model\n",
    "# note that batch size is implicit, so this means our input is batch sized by 1\n",
    "# shape parameter specifies the input shape of the layer\n",
    "u = Input(shape=(1,))\n",
    "m = Input(shape=(1,)) \n",
    "u_embedding = Embedding(N, K,embeddings_regularizer=l2(reg))(u) # (N, 1, K)\n",
    "m_embedding = Embedding(M, K,embeddings_regularizer=l2(reg))(m) # (M, 1, K)\n",
    "x = Dot(axes=2)([u_embedding, m_embedding]) \n",
    "# In particular, the output of this is not batch sized by k, instead it is batch sized by 1 x k"
   ]
  },
  {
   "cell_type": "code",
   "execution_count": 18,
   "metadata": {},
   "outputs": [
    {
     "data": {
      "text/plain": [
       "<KerasTensor: shape=(None, 1, 1) dtype=float32 (created by layer 'dot_1')>"
      ]
     },
     "execution_count": 18,
     "metadata": {},
     "output_type": "execute_result"
    }
   ],
   "source": [
    "x"
   ]
  },
  {
   "cell_type": "code",
   "execution_count": 34,
   "metadata": {},
   "outputs": [
    {
     "name": "stderr",
     "output_type": "stream",
     "text": [
      "c:\\Users\\mrizv\\anaconda3\\envs\\mytfenv\\lib\\site-packages\\keras\\optimizers\\optimizer_v2\\adam.py:114: UserWarning: The `lr` argument is deprecated, use `learning_rate` instead.\n",
      "  super().__init__(name, **kwargs)\n"
     ]
    }
   ],
   "source": [
    "model = Model(inputs=[u, m], outputs=x)\n",
    "model.compile(optimizer=Adam(lr=1e-4),loss='mse')"
   ]
  },
  {
   "cell_type": "code",
   "execution_count": 20,
   "metadata": {},
   "outputs": [
    {
     "name": "stdout",
     "output_type": "stream",
     "text": [
      "Epoch 1/20\n",
      "6147/6147 [==============================] - 10s 2ms/step - loss: 12.0228 - val_loss: 10.5410\n",
      "Epoch 2/20\n",
      "6147/6147 [==============================] - 10s 2ms/step - loss: 6.0643 - val_loss: 2.1631\n",
      "Epoch 3/20\n",
      "6147/6147 [==============================] - 9s 1ms/step - loss: 1.3068 - val_loss: 1.0682\n",
      "Epoch 4/20\n",
      "6147/6147 [==============================] - 9s 1ms/step - loss: 1.0582 - val_loss: 1.0574\n",
      "Epoch 5/20\n",
      "6147/6147 [==============================] - 9s 1ms/step - loss: 1.0560 - val_loss: 1.0573\n",
      "Epoch 6/20\n",
      "6147/6147 [==============================] - 9s 1ms/step - loss: 1.0559 - val_loss: 1.0574\n",
      "Epoch 7/20\n",
      "6147/6147 [==============================] - 9s 1ms/step - loss: 1.0559 - val_loss: 1.0573\n",
      "Epoch 8/20\n",
      "6147/6147 [==============================] - 9s 1ms/step - loss: 1.0559 - val_loss: 1.0573\n",
      "Epoch 9/20\n",
      "6147/6147 [==============================] - 9s 1ms/step - loss: 1.0559 - val_loss: 1.0573\n",
      "Epoch 10/20\n",
      "6147/6147 [==============================] - 9s 1ms/step - loss: 1.0559 - val_loss: 1.0572\n",
      "Epoch 11/20\n",
      "6147/6147 [==============================] - 9s 1ms/step - loss: 1.0559 - val_loss: 1.0573\n",
      "Epoch 12/20\n",
      "6147/6147 [==============================] - 9s 1ms/step - loss: 1.0559 - val_loss: 1.0573\n",
      "Epoch 13/20\n",
      "6147/6147 [==============================] - 10s 2ms/step - loss: 1.0559 - val_loss: 1.0573\n",
      "Epoch 14/20\n",
      "6147/6147 [==============================] - 9s 1ms/step - loss: 1.0560 - val_loss: 1.0573\n",
      "Epoch 15/20\n",
      "6147/6147 [==============================] - 9s 1ms/step - loss: 1.0559 - val_loss: 1.0573\n",
      "Epoch 16/20\n",
      "6147/6147 [==============================] - 9s 1ms/step - loss: 1.0559 - val_loss: 1.0574\n",
      "Epoch 17/20\n",
      "6147/6147 [==============================] - 9s 2ms/step - loss: 1.0559 - val_loss: 1.0573\n",
      "Epoch 18/20\n",
      "6147/6147 [==============================] - 10s 2ms/step - loss: 1.0560 - val_loss: 1.0572\n",
      "Epoch 19/20\n",
      "6147/6147 [==============================] - 10s 2ms/step - loss: 1.0559 - val_loss: 1.0573\n",
      "Epoch 20/20\n",
      "6147/6147 [==============================] - 10s 2ms/step - loss: 1.0559 - val_loss: 1.0572\n"
     ]
    }
   ],
   "source": [
    "r=model.fit(\n",
    "    x=[df_train.userId.values, df_train.movie_idx.values],\n",
    "    y=df_train.rating.values,\n",
    "    epochs=20, \n",
    "    batch_size=128,\n",
    "    validation_data=(\n",
    "        [df_test.userId.values, df_test.movie_idx.values],\n",
    "        df_test.rating.values\n",
    "    )\n",
    ")"
   ]
  },
  {
   "cell_type": "code",
   "execution_count": 21,
   "metadata": {},
   "outputs": [
    {
     "data": {
      "text/html": [
       "<div>\n",
       "<style scoped>\n",
       "    .dataframe tbody tr th:only-of-type {\n",
       "        vertical-align: middle;\n",
       "    }\n",
       "\n",
       "    .dataframe tbody tr th {\n",
       "        vertical-align: top;\n",
       "    }\n",
       "\n",
       "    .dataframe thead th {\n",
       "        text-align: right;\n",
       "    }\n",
       "</style>\n",
       "<table border=\"1\" class=\"dataframe\">\n",
       "  <thead>\n",
       "    <tr style=\"text-align: right;\">\n",
       "      <th></th>\n",
       "      <th>loss</th>\n",
       "      <th>val_loss</th>\n",
       "    </tr>\n",
       "  </thead>\n",
       "  <tbody>\n",
       "    <tr>\n",
       "      <th>0</th>\n",
       "      <td>12.022829</td>\n",
       "      <td>10.540986</td>\n",
       "    </tr>\n",
       "    <tr>\n",
       "      <th>1</th>\n",
       "      <td>6.064315</td>\n",
       "      <td>2.163069</td>\n",
       "    </tr>\n",
       "    <tr>\n",
       "      <th>2</th>\n",
       "      <td>1.306806</td>\n",
       "      <td>1.068166</td>\n",
       "    </tr>\n",
       "    <tr>\n",
       "      <th>3</th>\n",
       "      <td>1.058164</td>\n",
       "      <td>1.057397</td>\n",
       "    </tr>\n",
       "    <tr>\n",
       "      <th>4</th>\n",
       "      <td>1.055967</td>\n",
       "      <td>1.057324</td>\n",
       "    </tr>\n",
       "    <tr>\n",
       "      <th>5</th>\n",
       "      <td>1.055935</td>\n",
       "      <td>1.057438</td>\n",
       "    </tr>\n",
       "    <tr>\n",
       "      <th>6</th>\n",
       "      <td>1.055948</td>\n",
       "      <td>1.057256</td>\n",
       "    </tr>\n",
       "    <tr>\n",
       "      <th>7</th>\n",
       "      <td>1.055936</td>\n",
       "      <td>1.057252</td>\n",
       "    </tr>\n",
       "    <tr>\n",
       "      <th>8</th>\n",
       "      <td>1.055942</td>\n",
       "      <td>1.057331</td>\n",
       "    </tr>\n",
       "    <tr>\n",
       "      <th>9</th>\n",
       "      <td>1.055926</td>\n",
       "      <td>1.057214</td>\n",
       "    </tr>\n",
       "    <tr>\n",
       "      <th>10</th>\n",
       "      <td>1.055937</td>\n",
       "      <td>1.057317</td>\n",
       "    </tr>\n",
       "    <tr>\n",
       "      <th>11</th>\n",
       "      <td>1.055939</td>\n",
       "      <td>1.057256</td>\n",
       "    </tr>\n",
       "    <tr>\n",
       "      <th>12</th>\n",
       "      <td>1.055933</td>\n",
       "      <td>1.057338</td>\n",
       "    </tr>\n",
       "    <tr>\n",
       "      <th>13</th>\n",
       "      <td>1.055951</td>\n",
       "      <td>1.057269</td>\n",
       "    </tr>\n",
       "    <tr>\n",
       "      <th>14</th>\n",
       "      <td>1.055939</td>\n",
       "      <td>1.057274</td>\n",
       "    </tr>\n",
       "    <tr>\n",
       "      <th>15</th>\n",
       "      <td>1.055928</td>\n",
       "      <td>1.057442</td>\n",
       "    </tr>\n",
       "    <tr>\n",
       "      <th>16</th>\n",
       "      <td>1.055935</td>\n",
       "      <td>1.057257</td>\n",
       "    </tr>\n",
       "    <tr>\n",
       "      <th>17</th>\n",
       "      <td>1.055952</td>\n",
       "      <td>1.057210</td>\n",
       "    </tr>\n",
       "    <tr>\n",
       "      <th>18</th>\n",
       "      <td>1.055923</td>\n",
       "      <td>1.057260</td>\n",
       "    </tr>\n",
       "    <tr>\n",
       "      <th>19</th>\n",
       "      <td>1.055917</td>\n",
       "      <td>1.057247</td>\n",
       "    </tr>\n",
       "  </tbody>\n",
       "</table>\n",
       "</div>"
      ],
      "text/plain": [
       "         loss   val_loss\n",
       "0   12.022829  10.540986\n",
       "1    6.064315   2.163069\n",
       "2    1.306806   1.068166\n",
       "3    1.058164   1.057397\n",
       "4    1.055967   1.057324\n",
       "5    1.055935   1.057438\n",
       "6    1.055948   1.057256\n",
       "7    1.055936   1.057252\n",
       "8    1.055942   1.057331\n",
       "9    1.055926   1.057214\n",
       "10   1.055937   1.057317\n",
       "11   1.055939   1.057256\n",
       "12   1.055933   1.057338\n",
       "13   1.055951   1.057269\n",
       "14   1.055939   1.057274\n",
       "15   1.055928   1.057442\n",
       "16   1.055935   1.057257\n",
       "17   1.055952   1.057210\n",
       "18   1.055923   1.057260\n",
       "19   1.055917   1.057247"
      ]
     },
     "execution_count": 21,
     "metadata": {},
     "output_type": "execute_result"
    }
   ],
   "source": [
    "metric = pd.DataFrame(data=r.history)\n",
    "metric\n",
    "\n"
   ]
  },
  {
   "cell_type": "code",
   "execution_count": 22,
   "metadata": {},
   "outputs": [
    {
     "data": {
      "image/png": "[encoded data removed]",
      "text/plain": [
       "<Figure size 640x480 with 1 Axes>"
      ]
     },
     "metadata": {},
     "output_type": "display_data"
    }
   ],
   "source": [
    "# plot losses\n",
    "plt.plot(r.history['loss'], label=\"train loss\")\n",
    "plt.plot(r.history['val_loss'], label=\"test loss\")\n",
    "plt.legend()\n",
    "plt.show()"
   ]
  },
  {
   "cell_type": "code",
   "execution_count": 23,
   "metadata": {},
   "outputs": [
    {
     "name": "stdout",
     "output_type": "stream",
     "text": [
      "6147/6147 [==============================] - 5s 790us/step\n"
     ]
    }
   ],
   "source": [
    "preds = model.predict([df_test.userId.values, df_test.movie_idx.values])"
   ]
  },
  {
   "cell_type": "code",
   "execution_count": 30,
   "metadata": {},
   "outputs": [
    {
     "data": {
      "text/plain": [
       "1.0516759172201087"
      ]
     },
     "execution_count": 30,
     "metadata": {},
     "output_type": "execute_result"
    }
   ],
   "source": [
    "# calculate the mse\n",
    "from sklearn.metrics import mean_squared_error\n",
    "mean_squared_error(df_test.rating, preds.reshape(-1))"
   ]
  },
  {
   "cell_type": "markdown",
   "metadata": {},
   "source": [
    "#### Now using Neural Network"
   ]
  },
  {
   "cell_type": "code",
   "execution_count": 131,
   "metadata": {},
   "outputs": [],
   "source": [
    "u = Input(shape=(1,))\n",
    "m = Input(shape=(1,)) \n",
    "u_embedding = Embedding(N, K,embeddings_regularizer=l2(reg))(u) # (N, 1, K) N is batch size\n",
    "m_embedding = Embedding(M, K,embeddings_regularizer=l2(reg))(m) # (N, 1, K)\n",
    "x = Dot(axes=2)([u_embedding,m_embedding])"
   ]
  },
  {
   "cell_type": "code",
   "execution_count": 132,
   "metadata": {},
   "outputs": [],
   "source": [
    "x = Flatten()(x) # (N, 1)"
   ]
  },
  {
   "cell_type": "code",
   "execution_count": 133,
   "metadata": {},
   "outputs": [],
   "source": [
    "x = Dense(400)(x)\n",
    "x = Activation('relu')(x)\n",
    "x = Dropout(0.5)(x)\n",
    "x = Dense(1)(x)"
   ]
  },
  {
   "cell_type": "code",
   "execution_count": 134,
   "metadata": {},
   "outputs": [],
   "source": [
    "model = Model(inputs=[u, m], outputs=x)\n",
    "model.compile(\n",
    "    loss='mse',\n",
    "    optimizer=Adam(lr=1e-4),\n",
    ")"
   ]
  },
  {
   "cell_type": "code",
   "execution_count": 135,
   "metadata": {},
   "outputs": [
    {
     "name": "stdout",
     "output_type": "stream",
     "text": [
      "Epoch 1/20\n",
      "6147/6147 [==============================] - 19s 3ms/step - loss: 1.8562 - val_loss: 1.0504\n",
      "Epoch 2/20\n",
      "6147/6147 [==============================] - 19s 3ms/step - loss: 0.9074 - val_loss: 0.6559\n",
      "Epoch 3/20\n",
      "6147/6147 [==============================] - 19s 3ms/step - loss: 0.6375 - val_loss: 0.6194\n",
      "Epoch 4/20\n",
      "6147/6147 [==============================] - 19s 3ms/step - loss: 0.5787 - val_loss: 0.6002\n",
      "Epoch 5/20\n",
      "6147/6147 [==============================] - 19s 3ms/step - loss: 0.5308 - val_loss: 0.5932\n",
      "Epoch 6/20\n",
      "6147/6147 [==============================] - 19s 3ms/step - loss: 0.4932 - val_loss: 0.5929\n",
      "Epoch 7/20\n",
      "6147/6147 [==============================] - 19s 3ms/step - loss: 0.4633 - val_loss: 0.5944\n",
      "Epoch 8/20\n",
      "6147/6147 [==============================] - 20s 3ms/step - loss: 0.4400 - val_loss: 0.5967\n",
      "Epoch 9/20\n",
      "6147/6147 [==============================] - 20s 3ms/step - loss: 0.4217 - val_loss: 0.6006\n",
      "Epoch 10/20\n",
      "6147/6147 [==============================] - 20s 3ms/step - loss: 0.4063 - val_loss: 0.6049\n",
      "Epoch 11/20\n",
      "6147/6147 [==============================] - 20s 3ms/step - loss: 0.3933 - val_loss: 0.6095\n",
      "Epoch 12/20\n",
      "6147/6147 [==============================] - 20s 3ms/step - loss: 0.3826 - val_loss: 0.6119\n",
      "Epoch 13/20\n",
      "6147/6147 [==============================] - 19s 3ms/step - loss: 0.3728 - val_loss: 0.6165\n",
      "Epoch 14/20\n",
      "6147/6147 [==============================] - 20s 3ms/step - loss: 0.3646 - val_loss: 0.6191\n",
      "Epoch 15/20\n",
      "6147/6147 [==============================] - 20s 3ms/step - loss: 0.3578 - val_loss: 0.6265\n",
      "Epoch 16/20\n",
      "6147/6147 [==============================] - 20s 3ms/step - loss: 0.3517 - val_loss: 0.6301\n",
      "Epoch 17/20\n",
      "6147/6147 [==============================] - 20s 3ms/step - loss: 0.3458 - val_loss: 0.6313\n",
      "Epoch 18/20\n",
      "6147/6147 [==============================] - 20s 3ms/step - loss: 0.3419 - val_loss: 0.6347\n",
      "Epoch 19/20\n",
      "6147/6147 [==============================] - 19s 3ms/step - loss: 0.3371 - val_loss: 0.6421\n",
      "Epoch 20/20\n",
      "6147/6147 [==============================] - 24s 4ms/step - loss: 0.3339 - val_loss: 0.6462\n"
     ]
    }
   ],
   "source": [
    "r=model.fit(\n",
    "    x=[df_train.userId.values, df_train.movie_idx.values],\n",
    "    y=df_train.rating.values,\n",
    "    epochs=20, \n",
    "    batch_size=128,\n",
    "    validation_data=(\n",
    "        [df_test.userId.values, df_test.movie_idx.values],\n",
    "        df_test.rating.values\n",
    "    )\n",
    ")"
   ]
  },
  {
   "cell_type": "code",
   "execution_count": 136,
   "metadata": {},
   "outputs": [
    {
     "data": {
      "text/html": [
       "<div>\n",
       "<style scoped>\n",
       "    .dataframe tbody tr th:only-of-type {\n",
       "        vertical-align: middle;\n",
       "    }\n",
       "\n",
       "    .dataframe tbody tr th {\n",
       "        vertical-align: top;\n",
       "    }\n",
       "\n",
       "    .dataframe thead th {\n",
       "        text-align: right;\n",
       "    }\n",
       "</style>\n",
       "<table border=\"1\" class=\"dataframe\">\n",
       "  <thead>\n",
       "    <tr style=\"text-align: right;\">\n",
       "      <th></th>\n",
       "      <th>loss</th>\n",
       "      <th>val_loss</th>\n",
       "    </tr>\n",
       "  </thead>\n",
       "  <tbody>\n",
       "    <tr>\n",
       "      <th>0</th>\n",
       "      <td>1.856247</td>\n",
       "      <td>1.050417</td>\n",
       "    </tr>\n",
       "    <tr>\n",
       "      <th>1</th>\n",
       "      <td>0.907394</td>\n",
       "      <td>0.655908</td>\n",
       "    </tr>\n",
       "    <tr>\n",
       "      <th>2</th>\n",
       "      <td>0.637488</td>\n",
       "      <td>0.619438</td>\n",
       "    </tr>\n",
       "    <tr>\n",
       "      <th>3</th>\n",
       "      <td>0.578710</td>\n",
       "      <td>0.600212</td>\n",
       "    </tr>\n",
       "    <tr>\n",
       "      <th>4</th>\n",
       "      <td>0.530837</td>\n",
       "      <td>0.593153</td>\n",
       "    </tr>\n",
       "    <tr>\n",
       "      <th>5</th>\n",
       "      <td>0.493179</td>\n",
       "      <td>0.592925</td>\n",
       "    </tr>\n",
       "    <tr>\n",
       "      <th>6</th>\n",
       "      <td>0.463313</td>\n",
       "      <td>0.594449</td>\n",
       "    </tr>\n",
       "    <tr>\n",
       "      <th>7</th>\n",
       "      <td>0.440017</td>\n",
       "      <td>0.596719</td>\n",
       "    </tr>\n",
       "    <tr>\n",
       "      <th>8</th>\n",
       "      <td>0.421734</td>\n",
       "      <td>0.600569</td>\n",
       "    </tr>\n",
       "    <tr>\n",
       "      <th>9</th>\n",
       "      <td>0.406341</td>\n",
       "      <td>0.604862</td>\n",
       "    </tr>\n",
       "    <tr>\n",
       "      <th>10</th>\n",
       "      <td>0.393260</td>\n",
       "      <td>0.609504</td>\n",
       "    </tr>\n",
       "    <tr>\n",
       "      <th>11</th>\n",
       "      <td>0.382561</td>\n",
       "      <td>0.611887</td>\n",
       "    </tr>\n",
       "    <tr>\n",
       "      <th>12</th>\n",
       "      <td>0.372848</td>\n",
       "      <td>0.616545</td>\n",
       "    </tr>\n",
       "    <tr>\n",
       "      <th>13</th>\n",
       "      <td>0.364600</td>\n",
       "      <td>0.619116</td>\n",
       "    </tr>\n",
       "    <tr>\n",
       "      <th>14</th>\n",
       "      <td>0.357782</td>\n",
       "      <td>0.626510</td>\n",
       "    </tr>\n",
       "    <tr>\n",
       "      <th>15</th>\n",
       "      <td>0.351687</td>\n",
       "      <td>0.630075</td>\n",
       "    </tr>\n",
       "    <tr>\n",
       "      <th>16</th>\n",
       "      <td>0.345813</td>\n",
       "      <td>0.631293</td>\n",
       "    </tr>\n",
       "    <tr>\n",
       "      <th>17</th>\n",
       "      <td>0.341881</td>\n",
       "      <td>0.634746</td>\n",
       "    </tr>\n",
       "    <tr>\n",
       "      <th>18</th>\n",
       "      <td>0.337122</td>\n",
       "      <td>0.642056</td>\n",
       "    </tr>\n",
       "    <tr>\n",
       "      <th>19</th>\n",
       "      <td>0.333896</td>\n",
       "      <td>0.646215</td>\n",
       "    </tr>\n",
       "  </tbody>\n",
       "</table>\n",
       "</div>"
      ],
      "text/plain": [
       "        loss  val_loss\n",
       "0   1.856247  1.050417\n",
       "1   0.907394  0.655908\n",
       "2   0.637488  0.619438\n",
       "3   0.578710  0.600212\n",
       "4   0.530837  0.593153\n",
       "5   0.493179  0.592925\n",
       "6   0.463313  0.594449\n",
       "7   0.440017  0.596719\n",
       "8   0.421734  0.600569\n",
       "9   0.406341  0.604862\n",
       "10  0.393260  0.609504\n",
       "11  0.382561  0.611887\n",
       "12  0.372848  0.616545\n",
       "13  0.364600  0.619116\n",
       "14  0.357782  0.626510\n",
       "15  0.351687  0.630075\n",
       "16  0.345813  0.631293\n",
       "17  0.341881  0.634746\n",
       "18  0.337122  0.642056\n",
       "19  0.333896  0.646215"
      ]
     },
     "execution_count": 136,
     "metadata": {},
     "output_type": "execute_result"
    }
   ],
   "source": [
    "metric = pd.DataFrame(data=r.history)\n",
    "metric"
   ]
  },
  {
   "cell_type": "code",
   "execution_count": 137,
   "metadata": {},
   "outputs": [
    {
     "data": {
      "image/png": "[encoded data removed]",
      "text/plain": [
       "<Figure size 640x480 with 1 Axes>"
      ]
     },
     "metadata": {},
     "output_type": "display_data"
    }
   ],
   "source": [
    "# plot losses\n",
    "plt.plot(r.history['loss'], label=\"train loss\")\n",
    "plt.plot(r.history['val_loss'], label=\"test loss\")\n",
    "plt.legend()\n",
    "plt.show()"
   ]
  },
  {
   "cell_type": "code",
   "execution_count": 138,
   "metadata": {},
   "outputs": [
    {
     "name": "stdout",
     "output_type": "stream",
     "text": [
      "6147/6147 [==============================] - 6s 898us/step\n"
     ]
    }
   ],
   "source": [
    "preds = model.predict([df_test.userId.values, df_test.movie_idx.values])"
   ]
  },
  {
   "cell_type": "code",
   "execution_count": 139,
   "metadata": {},
   "outputs": [
    {
     "data": {
      "text/plain": [
       "0.6462153482873986"
      ]
     },
     "execution_count": 139,
     "metadata": {},
     "output_type": "execute_result"
    }
   ],
   "source": [
    "# calculate the mse\n",
    "from sklearn.metrics import mean_squared_error\n",
    "mean_squared_error(df_test.rating, preds.reshape(-1))"
   ]
  },
  {
   "cell_type": "code",
   "execution_count": 140,
   "metadata": {},
   "outputs": [
    {
     "name": "stdout",
     "output_type": "stream",
     "text": [
      "1/1 [==============================] - 0s 73ms/step\n"
     ]
    },
    {
     "data": {
      "text/plain": [
       "array([[2.792236]], dtype=float32)"
      ]
     },
     "execution_count": 140,
     "metadata": {},
     "output_type": "execute_result"
    }
   ],
   "source": [
    "tempUser = np.array([100]) # user 101 \n",
    "tempMovie = np.array([65]) # movie 66\n",
    "model.predict([tempUser, tempMovie])"
   ]
  },
  {
   "cell_type": "code",
   "execution_count": null,
   "metadata": {},
   "outputs": [],
   "source": []
  }
 ],
 "metadata": {
  "kernelspec": {
   "display_name": "mytfenv",
   "language": "python",
   "name": "python3"
  },
  "language_info": {
   "codemirror_mode": {
    "name": "ipython",
    "version": 3
   },
   "file_extension": ".py",
   "mimetype": "text/x-python",
   "name": "python",
   "nbconvert_exporter": "python",
   "pygments_lexer": "ipython3",
   "version": "3.7.16"
  },
  "orig_nbformat": 4
 },
 "nbformat": 4,
 "nbformat_minor": 2
}
