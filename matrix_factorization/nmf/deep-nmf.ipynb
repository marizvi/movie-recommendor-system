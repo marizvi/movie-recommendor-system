{
 "cells": [
  {
   "cell_type": "markdown",
   "metadata": {},
   "source": [
    "##### Deep NMF\n",
    "**Short Overview**\n",
    "* To implement Deep NMF, we have utilized the embedding layers.\n",
    "* Here we tried converting each userId and movieId into its corresponding embedding layer of each of size k.\n",
    "* user_embedding is nothing but a row vector of W\\[i\\], similarly our movie_embedding is a row_vector of H\\[i\\].\n",
    "* Dot product of these two vectors is our R\\[i\\]. Thats it! This is what our Matrix factorization does. Now Applying non negative constraint to embedding layer turns out to produce non negative W and H.\n",
    "\n",
    "**Learning:**\n",
    "* One beauty about embedding layer is that it is very good at learning relationships like: king-queen = man-woman.\n",
    "* This property of embedding layer helps us in achieving the goal of collaborative filtering. As the users with almost similar behaviour will turn out to have closely related embeddings."
   ]
  },
  {
   "cell_type": "code",
   "execution_count": 1,
   "metadata": {},
   "outputs": [],
   "source": [
    "import numpy as np\n",
    "import pandas as pd\n",
    "import pickle\n",
    "import matplotlib.pyplot as plt\n",
    "from sklearn.utils import shuffle\n",
    "from datetime import datetime"
   ]
  },
  {
   "cell_type": "code",
   "execution_count": 2,
   "metadata": {},
   "outputs": [],
   "source": [
    "from tensorflow.keras.models import Model\n",
    "from tensorflow.keras.layers import Input, Embedding, Flatten, Dense, Concatenate, Dot\n",
    "from tensorflow.keras.layers import Dropout, BatchNormalization, Activation\n",
    "from tensorflow.keras.regularizers import l2,l1\n",
    "from tensorflow.keras.optimizers.legacy import Adam\n",
    "from tensorflow.keras.optimizers import SGD\n",
    "from tensorflow.keras.constraints import NonNeg, non_neg"
   ]
  },
  {
   "cell_type": "code",
   "execution_count": 3,
   "metadata": {},
   "outputs": [],
   "source": [
    "df = pd.read_csv('./data/very_small_rating.csv')"
   ]
  },
  {
   "cell_type": "code",
   "execution_count": 4,
   "metadata": {},
   "outputs": [],
   "source": [
    "N = df.userId.max() + 1 # number of users\n",
    "M = df.movie_idx.max() + 1 # number of movies\n",
    "K=20\n",
    "reg = 0. # regularization penalty"
   ]
  },
  {
   "cell_type": "code",
   "execution_count": 5,
   "metadata": {},
   "outputs": [],
   "source": [
    "df = shuffle(df)\n",
    "cutoff = int(0.8 * len(df))\n",
    "df_train = df.iloc[:cutoff]\n",
    "df_test = df.iloc[cutoff:]"
   ]
  },
  {
   "cell_type": "code",
   "execution_count": 6,
   "metadata": {},
   "outputs": [],
   "source": [
    "# keras model\n",
    "# shape parameter specifies the input shape of the layer\n",
    "# Classes from the tf.keras.constraints module allow setting constraints (eg. non-negativity) on model parameters during \"training\".\n",
    "u = Input(shape=(1,))\n",
    "m = Input(shape=(1,)) \n",
    "u_embedding = Embedding(N, K,embeddings_regularizer=l2(reg),embeddings_constraint=non_neg())(u) # (N, 1, K)\n",
    "m_embedding = Embedding(M, K,embeddings_regularizer=l2(reg),embeddings_constraint=non_neg())(m) # (M, 1, K)\n",
    "x = Dot(axes=2)([u_embedding, m_embedding]) "
   ]
  },
  {
   "cell_type": "code",
   "execution_count": 7,
   "metadata": {},
   "outputs": [
    {
     "data": {
      "text/plain": [
       "<KerasTensor: shape=(None, 1, 1) dtype=float32 (created by layer 'dot')>"
      ]
     },
     "execution_count": 7,
     "metadata": {},
     "output_type": "execute_result"
    }
   ],
   "source": [
    "x"
   ]
  },
  {
   "cell_type": "code",
   "execution_count": 8,
   "metadata": {},
   "outputs": [],
   "source": [
    "model = Model(inputs=[u, m], outputs=x)\n",
    "model.compile(optimizer='adam',loss='mse')"
   ]
  },
  {
   "cell_type": "code",
   "execution_count": 9,
   "metadata": {},
   "outputs": [
    {
     "name": "stdout",
     "output_type": "stream",
     "text": [
      "Epoch 1/10\n",
      "8298/8298 [==============================] - 29s 3ms/step - loss: 1.9970 - val_loss: 1.0894\n",
      "Epoch 2/10\n",
      "8298/8298 [==============================] - 31s 4ms/step - loss: 1.0885 - val_loss: 1.0895\n",
      "Epoch 3/10\n",
      "8298/8298 [==============================] - 27s 3ms/step - loss: 1.0885 - val_loss: 1.0901\n",
      "Epoch 4/10\n",
      "8298/8298 [==============================] - 27s 3ms/step - loss: 1.0884 - val_loss: 1.0886\n",
      "Epoch 5/10\n",
      "8298/8298 [==============================] - 28s 3ms/step - loss: 1.0882 - val_loss: 1.0886\n",
      "Epoch 6/10\n",
      "8298/8298 [==============================] - 28s 3ms/step - loss: 1.0882 - val_loss: 1.0894\n",
      "Epoch 7/10\n",
      "8298/8298 [==============================] - 27s 3ms/step - loss: 1.0881 - val_loss: 1.0883\n",
      "Epoch 8/10\n",
      "8298/8298 [==============================] - 27s 3ms/step - loss: 1.0881 - val_loss: 1.0894\n",
      "Epoch 9/10\n",
      "8298/8298 [==============================] - 27s 3ms/step - loss: 1.0881 - val_loss: 1.0885\n",
      "Epoch 10/10\n",
      "8298/8298 [==============================] - 27s 3ms/step - loss: 1.0880 - val_loss: 1.0877\n"
     ]
    }
   ],
   "source": [
    "r=model.fit(\n",
    "    x=[df_train.userId.values, df_train.movie_idx.values],\n",
    "    y=df_train.rating.values,\n",
    "    epochs=10, \n",
    "    batch_size=100,\n",
    "    validation_data=(\n",
    "        [df_test.userId.values, df_test.movie_idx.values],\n",
    "        df_test.rating.values\n",
    "    )\n",
    ")"
   ]
  },
  {
   "cell_type": "code",
   "execution_count": 18,
   "metadata": {},
   "outputs": [
    {
     "data": {
      "text/plain": [
       "(701, 20)"
      ]
     },
     "execution_count": 18,
     "metadata": {},
     "output_type": "execute_result"
    }
   ],
   "source": [
    "# print user_embedding layer of model\n",
    "# len(df_train.userId.unique())\n",
    "model.layers[2].get_weights()[0].shape"
   ]
  },
  {
   "cell_type": "code",
   "execution_count": 21,
   "metadata": {},
   "outputs": [
    {
     "name": "stdout",
     "output_type": "stream",
     "text": [
      "(701, 20) (4001, 20)\n"
     ]
    }
   ],
   "source": [
    "# In nmf, R=WH, here W is our user_embedding matrix, H is our movie_embedding matrix\n",
    "\n",
    "W = model.layers[2].get_weights()[0]\n",
    "H = model.layers[3].get_weights()[0]\n",
    "print(W.shape, H.shape)"
   ]
  },
  {
   "cell_type": "code",
   "execution_count": 22,
   "metadata": {},
   "outputs": [
    {
     "data": {
      "text/html": [
       "<div>\n",
       "<style scoped>\n",
       "    .dataframe tbody tr th:only-of-type {\n",
       "        vertical-align: middle;\n",
       "    }\n",
       "\n",
       "    .dataframe tbody tr th {\n",
       "        vertical-align: top;\n",
       "    }\n",
       "\n",
       "    .dataframe thead th {\n",
       "        text-align: right;\n",
       "    }\n",
       "</style>\n",
       "<table border=\"1\" class=\"dataframe\">\n",
       "  <thead>\n",
       "    <tr style=\"text-align: right;\">\n",
       "      <th></th>\n",
       "      <th>loss</th>\n",
       "      <th>val_loss</th>\n",
       "    </tr>\n",
       "  </thead>\n",
       "  <tbody>\n",
       "    <tr>\n",
       "      <th>0</th>\n",
       "      <td>1.996960</td>\n",
       "      <td>1.089409</td>\n",
       "    </tr>\n",
       "    <tr>\n",
       "      <th>1</th>\n",
       "      <td>1.088472</td>\n",
       "      <td>1.089516</td>\n",
       "    </tr>\n",
       "    <tr>\n",
       "      <th>2</th>\n",
       "      <td>1.088451</td>\n",
       "      <td>1.090088</td>\n",
       "    </tr>\n",
       "    <tr>\n",
       "      <th>3</th>\n",
       "      <td>1.088392</td>\n",
       "      <td>1.088591</td>\n",
       "    </tr>\n",
       "    <tr>\n",
       "      <th>4</th>\n",
       "      <td>1.088231</td>\n",
       "      <td>1.088589</td>\n",
       "    </tr>\n",
       "    <tr>\n",
       "      <th>5</th>\n",
       "      <td>1.088237</td>\n",
       "      <td>1.089382</td>\n",
       "    </tr>\n",
       "    <tr>\n",
       "      <th>6</th>\n",
       "      <td>1.088139</td>\n",
       "      <td>1.088314</td>\n",
       "    </tr>\n",
       "    <tr>\n",
       "      <th>7</th>\n",
       "      <td>1.088069</td>\n",
       "      <td>1.089422</td>\n",
       "    </tr>\n",
       "    <tr>\n",
       "      <th>8</th>\n",
       "      <td>1.088079</td>\n",
       "      <td>1.088514</td>\n",
       "    </tr>\n",
       "    <tr>\n",
       "      <th>9</th>\n",
       "      <td>1.088027</td>\n",
       "      <td>1.087732</td>\n",
       "    </tr>\n",
       "  </tbody>\n",
       "</table>\n",
       "</div>"
      ],
      "text/plain": [
       "       loss  val_loss\n",
       "0  1.996960  1.089409\n",
       "1  1.088472  1.089516\n",
       "2  1.088451  1.090088\n",
       "3  1.088392  1.088591\n",
       "4  1.088231  1.088589\n",
       "5  1.088237  1.089382\n",
       "6  1.088139  1.088314\n",
       "7  1.088069  1.089422\n",
       "8  1.088079  1.088514\n",
       "9  1.088027  1.087732"
      ]
     },
     "execution_count": 22,
     "metadata": {},
     "output_type": "execute_result"
    }
   ],
   "source": [
    "metric = pd.DataFrame(data=r.history)\n",
    "metric\n",
    "\n"
   ]
  },
  {
   "cell_type": "code",
   "execution_count": 23,
   "metadata": {},
   "outputs": [
    {
     "data": {
      "image/png": "[encoded data removed]",
      "text/plain": [
       "<Figure size 640x480 with 1 Axes>"
      ]
     },
     "metadata": {},
     "output_type": "display_data"
    }
   ],
   "source": [
    "# plot losses\n",
    "plt.plot(r.history['loss'], label=\"train loss\")\n",
    "plt.legend()\n",
    "plt.show()"
   ]
  },
  {
   "cell_type": "code",
   "execution_count": 26,
   "metadata": {},
   "outputs": [
    {
     "name": "stdout",
     "output_type": "stream",
     "text": [
      "1/1 [==============================] - 0s 47ms/step\n"
     ]
    },
    {
     "data": {
      "text/plain": [
       "array([[[3.3129315]]], dtype=float32)"
      ]
     },
     "execution_count": 26,
     "metadata": {},
     "output_type": "execute_result"
    }
   ],
   "source": [
    "tempUser = np.array([200]) # user 201 \n",
    "tempMovie = np.array([55]) # movie 56\n",
    "model.predict([tempUser, tempMovie])\n",
    "# the output signifies the rating that user 201 would give to movie 56"
   ]
  },
  {
   "cell_type": "code",
   "execution_count": 27,
   "metadata": {},
   "outputs": [
    {
     "name": "stdout",
     "output_type": "stream",
     "text": [
      "6483/6483 [==============================] - 8s 1ms/step\n"
     ]
    }
   ],
   "source": [
    "preds = model.predict([df_test.userId.values, df_test.movie_idx.values])"
   ]
  },
  {
   "cell_type": "code",
   "execution_count": 28,
   "metadata": {},
   "outputs": [
    {
     "data": {
      "text/plain": [
       "1.0788575834668137"
      ]
     },
     "execution_count": 28,
     "metadata": {},
     "output_type": "execute_result"
    }
   ],
   "source": [
    "# calculate the mse\n",
    "from sklearn.metrics import mean_squared_error\n",
    "mean_squared_error(df_test.rating, preds.reshape(-1))"
   ]
  },
  {
   "cell_type": "markdown",
   "metadata": {},
   "source": [
    "#### Now using Neural Network"
   ]
  },
  {
   "cell_type": "code",
   "execution_count": 100,
   "metadata": {},
   "outputs": [],
   "source": [
    "u = Input(shape=(1,))\n",
    "m = Input(shape=(1,)) \n",
    "u_embedding = Embedding(N, K,embeddings_regularizer=l2(reg),embeddings_constraint=non_neg())(u) # (N, 1, K)\n",
    "m_embedding = Embedding(M, K,embeddings_regularizer=l2(reg),embeddings_constraint=non_neg())(m) # (N, 1, K)\n",
    "\n",
    "x = Dot(axes=2)([u_embedding,m_embedding])\n"
   ]
  },
  {
   "cell_type": "code",
   "execution_count": 101,
   "metadata": {},
   "outputs": [],
   "source": [
    "x = Flatten()(x) # (N, 1)\n",
    "x = Dropout(0.2)(x)"
   ]
  },
  {
   "cell_type": "code",
   "execution_count": 102,
   "metadata": {},
   "outputs": [],
   "source": [
    "x = Dense(400)(x)\n",
    "x = Activation('relu')(x)\n",
    "x = Dropout(0.2)(x)\n",
    "\n",
    "x = Dense(200)(x)\n",
    "x = Activation('relu')(x)\n",
    "x = Dropout(0.2)(x)\n",
    "\n",
    "x = Dense(1,activation='relu')(x)"
   ]
  },
  {
   "cell_type": "code",
   "execution_count": 103,
   "metadata": {},
   "outputs": [],
   "source": [
    "model = Model(inputs=[u, m], outputs=x)\n",
    "model.compile(\n",
    "    loss='mse',\n",
    "    optimizer='adam',\n",
    ")"
   ]
  },
  {
   "cell_type": "code",
   "execution_count": 104,
   "metadata": {},
   "outputs": [
    {
     "name": "stdout",
     "output_type": "stream",
     "text": [
      "Epoch 1/10\n",
      "16596/16596 [==============================] - 80s 5ms/step - loss: 0.9221 - val_loss: 0.7692\n",
      "Epoch 2/10\n",
      "16596/16596 [==============================] - 86s 5ms/step - loss: 0.8506 - val_loss: 0.7308\n",
      "Epoch 3/10\n",
      "16596/16596 [==============================] - 82s 5ms/step - loss: 0.7973 - val_loss: 0.7221\n",
      "Epoch 4/10\n",
      "16596/16596 [==============================] - 84s 5ms/step - loss: 0.7032 - val_loss: 0.6460\n",
      "Epoch 5/10\n",
      "16596/16596 [==============================] - 87s 5ms/step - loss: 0.6786 - val_loss: 0.6526\n",
      "Epoch 6/10\n",
      "16596/16596 [==============================] - 85s 5ms/step - loss: 0.6640 - val_loss: 0.6342\n",
      "Epoch 7/10\n",
      "16596/16596 [==============================] - 82s 5ms/step - loss: 0.6557 - val_loss: 0.6858\n",
      "Epoch 8/10\n",
      "16596/16596 [==============================] - 82s 5ms/step - loss: 0.6493 - val_loss: 0.6746\n",
      "Epoch 9/10\n",
      "16596/16596 [==============================] - 89s 5ms/step - loss: 0.6436 - val_loss: 0.7035\n",
      "Epoch 10/10\n",
      "16596/16596 [==============================] - 84s 5ms/step - loss: 0.6390 - val_loss: 0.7043\n"
     ]
    }
   ],
   "source": [
    "r=model.fit(\n",
    "    x=[df_train.userId.values, df_train.movie_idx.values],\n",
    "    y=df_train.rating.values,\n",
    "    epochs=10, \n",
    "    batch_size=50,\n",
    "    validation_data=(\n",
    "        [df_test.userId.values, df_test.movie_idx.values],\n",
    "        df_test.rating.values\n",
    "    )\n",
    ")"
   ]
  },
  {
   "cell_type": "code",
   "execution_count": 105,
   "metadata": {},
   "outputs": [
    {
     "data": {
      "text/html": [
       "<div>\n",
       "<style scoped>\n",
       "    .dataframe tbody tr th:only-of-type {\n",
       "        vertical-align: middle;\n",
       "    }\n",
       "\n",
       "    .dataframe tbody tr th {\n",
       "        vertical-align: top;\n",
       "    }\n",
       "\n",
       "    .dataframe thead th {\n",
       "        text-align: right;\n",
       "    }\n",
       "</style>\n",
       "<table border=\"1\" class=\"dataframe\">\n",
       "  <thead>\n",
       "    <tr style=\"text-align: right;\">\n",
       "      <th></th>\n",
       "      <th>loss</th>\n",
       "      <th>val_loss</th>\n",
       "    </tr>\n",
       "  </thead>\n",
       "  <tbody>\n",
       "    <tr>\n",
       "      <th>0</th>\n",
       "      <td>0.922089</td>\n",
       "      <td>0.769241</td>\n",
       "    </tr>\n",
       "    <tr>\n",
       "      <th>1</th>\n",
       "      <td>0.850639</td>\n",
       "      <td>0.730814</td>\n",
       "    </tr>\n",
       "    <tr>\n",
       "      <th>2</th>\n",
       "      <td>0.797258</td>\n",
       "      <td>0.722114</td>\n",
       "    </tr>\n",
       "    <tr>\n",
       "      <th>3</th>\n",
       "      <td>0.703211</td>\n",
       "      <td>0.646027</td>\n",
       "    </tr>\n",
       "    <tr>\n",
       "      <th>4</th>\n",
       "      <td>0.678553</td>\n",
       "      <td>0.652640</td>\n",
       "    </tr>\n",
       "    <tr>\n",
       "      <th>5</th>\n",
       "      <td>0.664010</td>\n",
       "      <td>0.634154</td>\n",
       "    </tr>\n",
       "    <tr>\n",
       "      <th>6</th>\n",
       "      <td>0.655719</td>\n",
       "      <td>0.685817</td>\n",
       "    </tr>\n",
       "    <tr>\n",
       "      <th>7</th>\n",
       "      <td>0.649308</td>\n",
       "      <td>0.674570</td>\n",
       "    </tr>\n",
       "    <tr>\n",
       "      <th>8</th>\n",
       "      <td>0.643617</td>\n",
       "      <td>0.703470</td>\n",
       "    </tr>\n",
       "    <tr>\n",
       "      <th>9</th>\n",
       "      <td>0.639029</td>\n",
       "      <td>0.704342</td>\n",
       "    </tr>\n",
       "  </tbody>\n",
       "</table>\n",
       "</div>"
      ],
      "text/plain": [
       "       loss  val_loss\n",
       "0  0.922089  0.769241\n",
       "1  0.850639  0.730814\n",
       "2  0.797258  0.722114\n",
       "3  0.703211  0.646027\n",
       "4  0.678553  0.652640\n",
       "5  0.664010  0.634154\n",
       "6  0.655719  0.685817\n",
       "7  0.649308  0.674570\n",
       "8  0.643617  0.703470\n",
       "9  0.639029  0.704342"
      ]
     },
     "execution_count": 105,
     "metadata": {},
     "output_type": "execute_result"
    }
   ],
   "source": [
    "metric = pd.DataFrame(data=r.history)\n",
    "metric"
   ]
  },
  {
   "cell_type": "code",
   "execution_count": 106,
   "metadata": {},
   "outputs": [
    {
     "data": {
      "image/png": "[encoded data removed]",
      "text/plain": [
       "<Figure size 640x480 with 1 Axes>"
      ]
     },
     "metadata": {},
     "output_type": "display_data"
    }
   ],
   "source": [
    "# plot losses\n",
    "plt.plot(r.history['loss'], label=\"train loss\")\n",
    "plt.plot(r.history['val_loss'], label=\"test loss\")\n",
    "plt.legend()\n",
    "plt.show()"
   ]
  },
  {
   "cell_type": "code",
   "execution_count": 108,
   "metadata": {},
   "outputs": [
    {
     "name": "stdout",
     "output_type": "stream",
     "text": [
      "6483/6483 [==============================] - 9s 1ms/step\n"
     ]
    }
   ],
   "source": [
    "preds = model.predict([df_test.userId.values, df_test.movie_idx.values])"
   ]
  },
  {
   "cell_type": "code",
   "execution_count": 109,
   "metadata": {},
   "outputs": [
    {
     "data": {
      "text/plain": [
       "0.7043429797001011"
      ]
     },
     "execution_count": 109,
     "metadata": {},
     "output_type": "execute_result"
    }
   ],
   "source": [
    "# calculate the mse\n",
    "from sklearn.metrics import mean_squared_error\n",
    "mean_squared_error(df_test.rating, preds.reshape(-1))"
   ]
  },
  {
   "cell_type": "code",
   "execution_count": 110,
   "metadata": {},
   "outputs": [
    {
     "name": "stdout",
     "output_type": "stream",
     "text": [
      "1/1 [==============================] - 0s 89ms/step\n"
     ]
    },
    {
     "data": {
      "text/plain": [
       "array([[2.5352743]], dtype=float32)"
      ]
     },
     "execution_count": 110,
     "metadata": {},
     "output_type": "execute_result"
    }
   ],
   "source": [
    "tempUser = np.array([100]) # user 101 \n",
    "tempMovie = np.array([65]) # movie 66\n",
    "model.predict([tempUser, tempMovie])\n",
    "# the output signifies the rating that user 101 would give to movie 66"
   ]
  },
  {
   "cell_type": "markdown",
   "metadata": {},
   "source": [
    "#### Neural Collaborative Filtering (A different approach)\n",
    "\n",
    "* Just found an interesting paper which uses Matrix factorization with Deep neural network implementing some another approach.\n",
    "* \n",
    "* ![''](image.png)\n",
    "* Here Instead of General Matrix Factorization I tried using Nonnegative matrix factorization\n",
    "* source: https://arxiv.org/pdf/1708.05031.pdf"
   ]
  },
  {
   "cell_type": "code",
   "execution_count": 111,
   "metadata": {},
   "outputs": [],
   "source": [
    "u = Input(shape=(1,))\n",
    "m = Input(shape=(1,)) \n",
    "\n",
    "\n",
    "# MLP Embeddings\n",
    "u_embedding_mlp = Embedding(N, K, name='u-embedding-mlp',embeddings_regularizer=l2(reg))(u)\n",
    "m_embedding_mlp = Embedding(M , K, name='movie-embedding-mlp',embeddings_regularizer=l2(reg))(m)\n",
    "\n",
    "# MF Embeddingsx\n",
    "u_embedding_mf = Embedding(N, K,embeddings_regularizer=l2(reg),embeddings_constraint=non_neg())(u) # (N, 1, K)\n",
    "m_embedding_mf = Embedding(M, K,embeddings_regularizer=l2(reg),embeddings_constraint=non_neg())(m) # (M, 1, K)\n",
    "\n",
    "#MLP layers\n",
    "u_mlp = Flatten()(u_embedding_mlp)\n",
    "m_mlp = Flatten()(m_embedding_mlp)\n",
    "conc = Concatenate()([u_mlp, m_mlp])\n",
    "mlp = Dropout(0.2)(conc)\n",
    "mlp = Dense(400,activation='relu')(mlp)\n",
    "mlp = Dropout(0.2)(mlp)\n",
    "mlp = Dense(200,activation='relu')(mlp)\n",
    "mlp = Dropout(0.2)(mlp)\n",
    "\n",
    "# final prediction\n",
    "mlp_pred = Dense(K,activation='relu')(mlp)\n",
    "mf_pred = Dot(axes=2)([u_embedding_mf,m_embedding_mf])\n",
    "mf_pred = Flatten()(mf_pred)\n",
    "fused_mf_mlp = Concatenate()([mlp_pred,mf_pred])\n",
    "\n",
    "result = Dense(1)(fused_mf_mlp)"
   ]
  },
  {
   "cell_type": "code",
   "execution_count": 112,
   "metadata": {},
   "outputs": [],
   "source": [
    "model = Model(inputs=[u, m], outputs=result)\n",
    "model.compile(optimizer='adam',loss='mse')"
   ]
  },
  {
   "cell_type": "code",
   "execution_count": 113,
   "metadata": {},
   "outputs": [
    {
     "name": "stdout",
     "output_type": "stream",
     "text": [
      "Epoch 1/10\n",
      "16596/16596 [==============================] - 134s 8ms/step - loss: 0.7020 - val_loss: 0.6332\n",
      "Epoch 2/10\n",
      "16596/16596 [==============================] - 129s 8ms/step - loss: 0.6225 - val_loss: 0.6057\n",
      "Epoch 3/10\n",
      "16596/16596 [==============================] - 127s 8ms/step - loss: 0.5944 - val_loss: 0.5844\n",
      "Epoch 4/10\n",
      "16596/16596 [==============================] - 126s 8ms/step - loss: 0.5680 - val_loss: 0.5732\n",
      "Epoch 5/10\n",
      "16596/16596 [==============================] - 155s 9ms/step - loss: 0.5472 - val_loss: 0.5690\n",
      "Epoch 6/10\n",
      "16596/16596 [==============================] - 141s 8ms/step - loss: 0.5318 - val_loss: 0.5631\n",
      "Epoch 7/10\n",
      "16596/16596 [==============================] - 133s 8ms/step - loss: 0.5207 - val_loss: 0.5667\n",
      "Epoch 8/10\n",
      "16596/16596 [==============================] - 129s 8ms/step - loss: 0.5128 - val_loss: 0.5619\n",
      "Epoch 9/10\n",
      "16596/16596 [==============================] - 130s 8ms/step - loss: 0.5056 - val_loss: 0.5618\n",
      "Epoch 10/10\n",
      "16596/16596 [==============================] - 138s 8ms/step - loss: 0.5000 - val_loss: 0.5609\n"
     ]
    }
   ],
   "source": [
    "r=model.fit(\n",
    "    x=[df_train.userId.values, df_train.movie_idx.values],\n",
    "    y=df_train.rating.values,\n",
    "    epochs=10,\n",
    "    batch_size=50,\n",
    "    validation_data=(\n",
    "        [df_test.userId.values, df_test.movie_idx.values],\n",
    "        df_test.rating.values,),\n",
    "\n",
    ")"
   ]
  },
  {
   "cell_type": "code",
   "execution_count": 114,
   "metadata": {},
   "outputs": [
    {
     "data": {
      "text/html": [
       "<div>\n",
       "<style scoped>\n",
       "    .dataframe tbody tr th:only-of-type {\n",
       "        vertical-align: middle;\n",
       "    }\n",
       "\n",
       "    .dataframe tbody tr th {\n",
       "        vertical-align: top;\n",
       "    }\n",
       "\n",
       "    .dataframe thead th {\n",
       "        text-align: right;\n",
       "    }\n",
       "</style>\n",
       "<table border=\"1\" class=\"dataframe\">\n",
       "  <thead>\n",
       "    <tr style=\"text-align: right;\">\n",
       "      <th></th>\n",
       "      <th>loss</th>\n",
       "      <th>val_loss</th>\n",
       "    </tr>\n",
       "  </thead>\n",
       "  <tbody>\n",
       "    <tr>\n",
       "      <th>0</th>\n",
       "      <td>0.701999</td>\n",
       "      <td>0.633180</td>\n",
       "    </tr>\n",
       "    <tr>\n",
       "      <th>1</th>\n",
       "      <td>0.622489</td>\n",
       "      <td>0.605733</td>\n",
       "    </tr>\n",
       "    <tr>\n",
       "      <th>2</th>\n",
       "      <td>0.594397</td>\n",
       "      <td>0.584378</td>\n",
       "    </tr>\n",
       "    <tr>\n",
       "      <th>3</th>\n",
       "      <td>0.567971</td>\n",
       "      <td>0.573159</td>\n",
       "    </tr>\n",
       "    <tr>\n",
       "      <th>4</th>\n",
       "      <td>0.547184</td>\n",
       "      <td>0.568963</td>\n",
       "    </tr>\n",
       "    <tr>\n",
       "      <th>5</th>\n",
       "      <td>0.531836</td>\n",
       "      <td>0.563125</td>\n",
       "    </tr>\n",
       "    <tr>\n",
       "      <th>6</th>\n",
       "      <td>0.520701</td>\n",
       "      <td>0.566706</td>\n",
       "    </tr>\n",
       "    <tr>\n",
       "      <th>7</th>\n",
       "      <td>0.512777</td>\n",
       "      <td>0.561860</td>\n",
       "    </tr>\n",
       "    <tr>\n",
       "      <th>8</th>\n",
       "      <td>0.505576</td>\n",
       "      <td>0.561764</td>\n",
       "    </tr>\n",
       "    <tr>\n",
       "      <th>9</th>\n",
       "      <td>0.499951</td>\n",
       "      <td>0.560933</td>\n",
       "    </tr>\n",
       "  </tbody>\n",
       "</table>\n",
       "</div>"
      ],
      "text/plain": [
       "       loss  val_loss\n",
       "0  0.701999  0.633180\n",
       "1  0.622489  0.605733\n",
       "2  0.594397  0.584378\n",
       "3  0.567971  0.573159\n",
       "4  0.547184  0.568963\n",
       "5  0.531836  0.563125\n",
       "6  0.520701  0.566706\n",
       "7  0.512777  0.561860\n",
       "8  0.505576  0.561764\n",
       "9  0.499951  0.560933"
      ]
     },
     "execution_count": 114,
     "metadata": {},
     "output_type": "execute_result"
    }
   ],
   "source": [
    "metric = pd.DataFrame(data=r.history)\n",
    "metric"
   ]
  },
  {
   "cell_type": "code",
   "execution_count": 115,
   "metadata": {},
   "outputs": [
    {
     "data": {
      "text/plain": [
       "<matplotlib.axes._subplots.AxesSubplot at 0x1628e111688>"
      ]
     },
     "execution_count": 115,
     "metadata": {},
     "output_type": "execute_result"
    },
    {
     "data": {
      "image/png": "[encoded data removed]",
      "text/plain": [
       "<Figure size 640x480 with 1 Axes>"
      ]
     },
     "metadata": {},
     "output_type": "display_data"
    }
   ],
   "source": [
    "metric.plot()"
   ]
  },
  {
   "cell_type": "code",
   "execution_count": 116,
   "metadata": {},
   "outputs": [
    {
     "name": "stdout",
     "output_type": "stream",
     "text": [
      "6483/6483 [==============================] - 15s 2ms/step\n"
     ]
    }
   ],
   "source": [
    "preds = model.predict([df_test.userId.values, df_test.movie_idx.values])"
   ]
  },
  {
   "cell_type": "code",
   "execution_count": 117,
   "metadata": {},
   "outputs": [
    {
     "data": {
      "text/plain": [
       "0.5609328807160708"
      ]
     },
     "execution_count": 117,
     "metadata": {},
     "output_type": "execute_result"
    }
   ],
   "source": [
    "# calculate mse\n",
    "from sklearn.metrics import mean_squared_error\n",
    "mean_squared_error(df_test.rating, preds.reshape(-1))"
   ]
  },
  {
   "cell_type": "markdown",
   "metadata": {},
   "source": [
    "#### Conclusion:\n",
    "* Mean squared errors:\n",
    "    * linear embedding model of NMF: **1.0788575834668137**\n",
    "    * NMF with neural network: **0.7043429797001011**\n",
    "    * NMF with fused Multi Layer Perceptron: **0.5609328807160708**"
   ]
  },
  {
   "cell_type": "markdown",
   "metadata": {},
   "source": [
    "#### References:\n",
    "* https://www.researchgate.net/publication/275645705_Matrix_Factorization_Model_in_Collaborative_Filtering_Algorithms_A_Survey\n",
    "* https://iopscience.iop.org/article/10.1088/1742-6596/1060/1/012001/pdf\n",
    "* https://arxiv.org/pdf/1708.05031.pdf"
   ]
  },
  {
   "cell_type": "code",
   "execution_count": null,
   "metadata": {},
   "outputs": [],
   "source": []
  }
 ],
 "metadata": {
  "kernelspec": {
   "display_name": "mytfenv",
   "language": "python",
   "name": "python3"
  },
  "language_info": {
   "codemirror_mode": {
    "name": "ipython",
    "version": 3
   },
   "file_extension": ".py",
   "mimetype": "text/x-python",
   "name": "python",
   "nbconvert_exporter": "python",
   "pygments_lexer": "ipython3",
   "version": "3.7.16"
  },
  "orig_nbformat": 4
 },
 "nbformat": 4,
 "nbformat_minor": 2
}
